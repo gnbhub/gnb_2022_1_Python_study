{
  "nbformat": 4,
  "nbformat_minor": 0,
  "metadata": {
    "colab": {
      "name": "Untitled2.ipynb",
      "provenance": [],
      "authorship_tag": "ABX9TyMZohtkphqtkqBcmf3X+Ko7",
      "include_colab_link": true
    },
    "kernelspec": {
      "name": "python3",
      "display_name": "Python 3"
    },
    "language_info": {
      "name": "python"
    }
  },
  "cells": [
    {
      "cell_type": "markdown",
      "metadata": {
        "id": "view-in-github",
        "colab_type": "text"
      },
      "source": [
        "<a href=\"https://colab.research.google.com/github/gnbhub/gnb_2022_1_Python_study/blob/master/week5/jiwoo.ipynb\" target=\"_parent\"><img src=\"https://colab.research.google.com/assets/colab-badge.svg\" alt=\"Open In Colab\"/></a>"
      ]
    },
    {
      "cell_type": "code",
      "execution_count": 6,
      "metadata": {
        "colab": {
          "base_uri": "https://localhost:8080/"
        },
        "id": "Py_cWQulBpHc",
        "outputId": "e9b365c0-4d02-473e-c1be-695453425024"
      },
      "outputs": [
        {
          "output_type": "stream",
          "name": "stdout",
          "text": [
            "1.빵, 2.패티, 3.토마토, 4.양상추, 5.케첩, 6.마요네즈, 7.치즈, 8.양파\n",
            "햄버거 재료를 순서대로 입력 (예:1,2,3) : 1 2 5 6 7\n",
            "당신이 선택한 햄버거 재료\n",
            "빵 패티 케첩 마요네즈  치즈 \n",
            "총 칼로리 : 550kcal\n"
          ]
        }
      ],
      "source": [
        "recipe_list = [\"빵\", \"패티\", \"토마토\", \"양상추\", \"케첩\", \"마요네즈\", \" 치즈\", \"양파\"]\n",
        "calorie_list = [168, 250, 20, 11, 15, 57, 60, 40]\n",
        "\n",
        "print(\"1.빵, 2.패티, 3.토마토, 4.양상추, 5.케첩, 6.마요네즈, 7.치즈, 8.양파\")\n",
        "recipe = input(\"햄버거 재료를 순서대로 입력 (예:1,2,3) : \")\n",
        "total_calorie = 0\n",
        "\n",
        "print(\"당신이 선택한 햄버거 재료\")\n",
        "for item in recipe.split(\" \"):\n",
        "  index = int(item)-1\n",
        "  print(recipe_list[index], end = \" \")\n",
        "  total_calorie += calorie_list[index]\n",
        "print(\"\\n총 칼로리 : %dkcal\"  %total_calorie)"
      ]
    },
    {
      "cell_type": "code",
      "source": [
        "names = [\"홍길동\", \"박지성\", \"김연아\"]\n",
        "\n",
        "print(\"이름 리스트\")\n",
        "for count in range(len(names)):\n",
        "  print(\"%d.%s\" %(count+1, names[count]), end=\" \")\n",
        "print()\n",
        "\n",
        "number = int(input(\"삽입 위치 입력 : \"))\n",
        "if number in range(1, len(names)+2):\n",
        "  inname = input(\"이름 입력 : \")\n",
        "  names.insert(number-1, inname)\n",
        "else:\n",
        "  print(\"삽입할 수 없습니다\")\n",
        "\n",
        "search = input(\"수정할 이름 입력 : \")\n",
        "if search in names:\n",
        "  print(\"%s가 존재합니다\" %names[names.index(search)])\n",
        "  rename = input(\"바꿀 이름을 입력하세요 : \")\n",
        "  names[names.index(search)] = rename\n",
        "else:\n",
        "  print(\"%s가 존재하지 않습니다\" %search)\n",
        "\n",
        "print(names)"
      ],
      "metadata": {
        "colab": {
          "base_uri": "https://localhost:8080/"
        },
        "id": "EzkF6ibTETyi",
        "outputId": "af03f31b-762b-4cb4-a42b-28068e250fa3"
      },
      "execution_count": 8,
      "outputs": [
        {
          "output_type": "stream",
          "name": "stdout",
          "text": [
            "이름 리스트\n",
            "1.홍길동 2.박지성 3.김연아 \n",
            "삽입 위치 입력 : 2\n",
            "이름 입력 : 박찬호\n",
            "수정할 이름 입력 : 홍길동\n",
            "홍길동가 존재합니다\n",
            "바꿀 이름을 입력하세요 : 박세리\n",
            "['박세리', '박찬호', '박지성', '김연아']\n"
          ]
        }
      ]
    },
    {
      "cell_type": "code",
      "source": [
        "names = []\n",
        "name_str = input(\"5명의 이름을 차례로 입력 : \")\n",
        "names = name_str.split()\n",
        "\n",
        "search = input(\"삭제할 이름을 입력 : \")\n",
        "if search in names:\n",
        "  names.remove(search)\n",
        "  print(\"%s가 삭제되었습니다\" %search)\n",
        "else:\n",
        "  print(\"%s가 존재하지 않습니다\" %search)\n",
        "\n",
        "print(\"이름 리스트\")\n",
        "for count in range(len(names)):\n",
        "  print(\"%d.%s\" %(count+1, names[count]), end=\" \")\n",
        "print()\n",
        "\n",
        "number = int(input(\"삭제할 번호를 입력 : \"))\n",
        "if number in range(1, 6):\n",
        "  print(\"%s가 삭제되었습니다\" %names.pop(number-1))\n",
        "else:\n",
        "  print(\"번호가 존재하지 않습니다\")\n",
        "  \n",
        "print(names)\n"
      ],
      "metadata": {
        "colab": {
          "base_uri": "https://localhost:8080/"
        },
        "id": "JDgGZl59E7qb",
        "outputId": "60819b2f-0dbf-432d-c8f4-c55c00ed157c"
      },
      "execution_count": 9,
      "outputs": [
        {
          "output_type": "stream",
          "name": "stdout",
          "text": [
            "5명의 이름을 차례로 입력 : 홍길동 박찬호 박지성 박세리 김연아\n",
            "삭제할 이름을 입력 : 박지성\n",
            "박지성가 삭제되었습니다\n",
            "이름 리스트\n",
            "1.홍길동 2.박찬호 3.박세리 4.김연아 \n",
            "삭제할 번호를 입력 : 2\n",
            "박찬호가 삭제되었습니다\n",
            "['홍길동', '박세리', '김연아']\n"
          ]
        }
      ]
    },
    {
      "cell_type": "code",
      "source": [
        "matrix = []; item = 1\n",
        "\n",
        "for row in range(5):\n",
        "  rowlist = []\n",
        "  for col in range(5):\n",
        "    rowlist.append(item)\n",
        "    item += 1\n",
        "  matrix.append(rowlist)\n",
        "\n",
        "total = 0\n",
        "for row in range(5):\n",
        "  for col in range(row, 5):\n",
        "    total += matrix[row][col]\n",
        "print(\"대각선 오른쪽 위 요소의 합 :\", total)\n",
        "\n",
        "total = 0\n",
        "for row in range(5):\n",
        "  for col in range(0, row+1):\n",
        "    total += matrix[row][col]\n",
        "print(\"대각선 왼쪽 아래 요소의 합 :\", total)\n"
      ],
      "metadata": {
        "colab": {
          "base_uri": "https://localhost:8080/"
        },
        "id": "nyk9zzE8FL58",
        "outputId": "7e448c9a-4b46-4557-fd38-9391c44cd448"
      },
      "execution_count": 11,
      "outputs": [
        {
          "output_type": "stream",
          "name": "stdout",
          "text": [
            "대각선 오른쪽 위 요소의 합 : 155\n",
            "대각선 왼쪽 아래 요소의 합 : 235\n"
          ]
        }
      ]
    },
    {
      "cell_type": "code",
      "source": [
        "player = []\n",
        "name = input(\"선수 입력 : \")\n",
        "player.append(name)\n",
        "score = input(\"1차, 2차 점수를 콤마로 구분하여 차례로 입력 : \")\n",
        "player.append(score.split(\",\"))\n",
        "\n",
        "average = (float(player[1][0]) + float(player[1][1])) / len(player[1])\n",
        "if average >= 5.0:\n",
        "  judge = \"본선진출\"\n",
        "else:\n",
        "  judge = \"예선탈락\"\n",
        "\n",
        "print(\"판정 리스트 :\", player)\n",
        "print(\"이름: %s, 평균: %.1f, 판정: %s\" %(player[0], average, judge))\n"
      ],
      "metadata": {
        "colab": {
          "base_uri": "https://localhost:8080/"
        },
        "id": "1fdjokd2FgQq",
        "outputId": "7236c4c5-7d44-4c34-b47a-f414aa93d12e"
      },
      "execution_count": 13,
      "outputs": [
        {
          "output_type": "stream",
          "name": "stdout",
          "text": [
            "선수 입력 : 홍길동\n",
            "1차, 2차 점수를 콤마로 구분하여 차례로 입력 : 7.8, 9.4\n",
            "판정 리스트 : ['홍길동', ['7.8', ' 9.4']]\n",
            "이름: 홍길동, 평균: 8.6, 판정: 본선진출\n"
          ]
        }
      ]
    },
    {
      "cell_type": "code",
      "source": [
        "numbers = [4, 7, 6, 3, 1, 8, 5]\n",
        "\n",
        "for i in range(len(numbers)-1, 0, -1):\n",
        "  for j in range(i):\n",
        "    if numbers[j] > numbers[j+1]:\n",
        "      temp = numbers[j]\n",
        "      numbers[j] = numbers[j+1]\n",
        "      numbers[j+1] = temp\n",
        "  print(\"pass\", len(numbers)-i, \":\", numbers)"
      ],
      "metadata": {
        "colab": {
          "base_uri": "https://localhost:8080/"
        },
        "id": "vuCTxL1aFv1y",
        "outputId": "ce668e45-ef4a-4b08-ff63-adcb889a425c"
      },
      "execution_count": 14,
      "outputs": [
        {
          "output_type": "stream",
          "name": "stdout",
          "text": [
            "pass 1 : [4, 6, 3, 1, 7, 5, 8]\n",
            "pass 2 : [4, 3, 1, 6, 5, 7, 8]\n",
            "pass 3 : [3, 1, 4, 5, 6, 7, 8]\n",
            "pass 4 : [1, 3, 4, 5, 6, 7, 8]\n",
            "pass 5 : [1, 3, 4, 5, 6, 7, 8]\n",
            "pass 6 : [1, 3, 4, 5, 6, 7, 8]\n"
          ]
        }
      ]
    }
  ]
}