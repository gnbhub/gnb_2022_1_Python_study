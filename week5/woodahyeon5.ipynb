{
  "nbformat": 4,
  "nbformat_minor": 0,
  "metadata": {
    "colab": {
      "name": "woodahyeon5.ipynb",
      "provenance": [],
      "authorship_tag": "ABX9TyM/j9dmWVGjxhUfeYQcC2G7",
      "include_colab_link": true
    },
    "kernelspec": {
      "name": "python3",
      "display_name": "Python 3"
    },
    "language_info": {
      "name": "python"
    }
  },
  "cells": [
    {
      "cell_type": "markdown",
      "metadata": {
        "id": "view-in-github",
        "colab_type": "text"
      },
      "source": [
        "<a href=\"https://colab.research.google.com/github/gnbhub/gnb_2022_1_Python_study/blob/master/week5/woodahyeon5.ipynb\" target=\"_parent\"><img src=\"https://colab.research.google.com/assets/colab-badge.svg\" alt=\"Open In Colab\"/></a>"
      ]
    },
    {
      "cell_type": "code",
      "source": [
        "recipe_list = ['빵', '패티', '토마토', '양상추', '케첩', '마요네즈', '치즈', '양파']\n",
        "calorie_list = [168, 250, 20, 11, 15, 57, 60, 40]\n",
        "print('1.빵, 2.패티, 3.토마토, 4.양상추, 5.케첩, 6.마요네즈, 7.치즈, 8.양파')\n",
        "recipe = input('햄버거 재료를 순서대로 입력 (예:1,2,3) : ')\n",
        "total_calorie = 0\n",
        "print('당신이 선택한 햄버거 재료')\n",
        "for item in recipe.split(','):\n",
        "  index = int(item) - 1\n",
        "  print(recipe_list[index], end = ', ')\n",
        "  total_calorie += calorie_list[index]\n",
        "print('\\n총 칼로리 : %dkcal' %total_calorie)"
      ],
      "metadata": {
        "colab": {
          "base_uri": "https://localhost:8080/"
        },
        "id": "l7sKgqb20GNm",
        "outputId": "05145e0f-797f-4b39-c0c5-35ed29c54bfe"
      },
      "execution_count": null,
      "outputs": [
        {
          "output_type": "stream",
          "name": "stdout",
          "text": [
            "1.빵, 2.패티, 3.토마토, 4.양상추, 5.케첩, 6.마요네즈, 7.치즈, 8.양파\n",
            "햄버거 재료를 순서대로 입력 (예:1,2,3) : 1, 2, 3, 4, 6, 8\n",
            "당신이 선택한 햄버거 재료\n",
            "빵, 패티, 토마토, 양상추, 마요네즈, 양파, \n",
            "총 칼로리 : 546kcal\n"
          ]
        }
      ]
    },
    {
      "cell_type": "code",
      "source": [
        "names = ['홍길동', '박지성', '김연아']\n",
        "for count in range(len(names)):\n",
        "  print('%d.%s' %(count+1, names[count]), end = ' ')\n",
        "print()\n",
        "num = int(input('삽입 위치 입력 : '))\n",
        "if num in range(1, len(names)+2):\n",
        "  inname = input('이름 입력 : ')\n",
        "  names.insert(num - 1, inname)\n",
        "else:\n",
        "  print('삽입할 수 없습니다')\n",
        "search = input('수정할 이름 입력 : ')\n",
        "if search in names:\n",
        "  print('%s가 존재합니다' %names[names.index(search)])\n",
        "  rename = input('바꿀 이름을 입력하세요 : ')\n",
        "  names[names.index(search)] = rename\n",
        "else:\n",
        "  print('%s가 존재하지 않습니다' %search)\n",
        "print(names)"
      ],
      "metadata": {
        "colab": {
          "base_uri": "https://localhost:8080/"
        },
        "id": "m6zC489m0G6w",
        "outputId": "f7513e40-3826-4350-8c58-8f744144d18b"
      },
      "execution_count": null,
      "outputs": [
        {
          "output_type": "stream",
          "name": "stdout",
          "text": [
            "1.홍길동 2.박지성 3.김연아 \n",
            "삽입 위치 입력 : 4\n",
            "이름 입력 : 박찬호\n",
            "수정할 이름 입력 : 박지성\n",
            "박지성가 존재합니다\n",
            "바꿀 이름을 입력하세요 : 손흥민\n",
            "['홍길동', '손흥민', '김연아', '박찬호']\n"
          ]
        }
      ]
    },
    {
      "cell_type": "code",
      "source": [
        "names = []\n",
        "name_str = input('5명의 이름을 차례로 입력 : ')\n",
        "names = name_str.split()\n",
        "search = input('삭제할 이름을 입력 : ')\n",
        "if search in names:\n",
        "  names.remove(search)\n",
        "  print('%s가 삭제되었습니다' %search)\n",
        "else:\n",
        "  print('%s가 존재하지 않습니다' %search)\n",
        "print('이름 리스트')\n",
        "for count in range(len(names)):\n",
        "  print(\"%d.%s\" %(count+1, names[count]), end=\" \")\n",
        "print()\n",
        "number = int(input('삭제할 번호를 입력 : '))\n",
        "if number in range(1, 6):\n",
        "  print('%s가 삭제되었습니다' %names.pop(number-1))\n",
        "else:\n",
        "  print('번호가 존재하지 않습니다')\n",
        "print(names)"
      ],
      "metadata": {
        "colab": {
          "base_uri": "https://localhost:8080/"
        },
        "id": "zWPto6WT0HHy",
        "outputId": "05602116-6162-4f39-c896-af9625dae2e1"
      },
      "execution_count": null,
      "outputs": [
        {
          "output_type": "stream",
          "name": "stdout",
          "text": [
            "5명의 이름을 차례로 입력 : 김 이 박 최 우\n",
            "삭제할 이름을 입력 : 박\n",
            "박가 삭제되었습니다\n",
            "이름 리스트\n",
            "1.김 2.이 3.최 4.우 \n",
            "삭제할 번호를 입력 : 3\n",
            "최가 삭제되었습니다\n",
            "['김', '이', '우']\n"
          ]
        }
      ]
    },
    {
      "cell_type": "code",
      "source": [
        "matrix = []; item=1\n",
        "for row in range(5):\n",
        "  rowlist = []\n",
        "  for col in range(5):\n",
        "    rowlist.append(item)\n",
        "    item += 1\n",
        "  matrix.append(rowlist)\n",
        "total = 0\n",
        "for row in range(5):\n",
        "  for col in range(row, 5):\n",
        "    total += matrix[row][col]\n",
        "print('대각선 오른쪽 위 요소의 합 :', total)\n",
        "total = 0\n",
        "for row in range(5):\n",
        "  for col in range(0, row+1):\n",
        "    total += matrix[row][col]\n",
        "print('대각선 왼쪽 아래 요소의 합 :', total)"
      ],
      "metadata": {
        "colab": {
          "base_uri": "https://localhost:8080/"
        },
        "id": "YhFat3hJ0HUP",
        "outputId": "a8e06cde-d751-4242-f524-980a2d776138"
      },
      "execution_count": null,
      "outputs": [
        {
          "output_type": "stream",
          "name": "stdout",
          "text": [
            "대각선 오른쪽 위 요소의 합 : 155\n",
            "대각선 왼쪽 아래 요소의 합 : 235\n"
          ]
        }
      ]
    },
    {
      "cell_type": "code",
      "source": [
        "player = []\n",
        "name = input('선수 입력 : ')\n",
        "player.append(name)\n",
        "score = input('1차, 2차 점수를 콤마로 구분하여 차례로 입력 : ')\n",
        "player.append(score.split(\",\"))\n",
        "average = (float(player[1][0]) + float(player[1][1])) / len(player[1])\n",
        "if average >= 5.0:\n",
        "  judge = '본선진출'\n",
        "else:\n",
        "  judge = '예선탈락'\n",
        "print('판정 리스트 :', player)\n",
        "print('이름: %s, 평균: %.1f, 판정: %s' %(player[0], average, judge))"
      ],
      "metadata": {
        "colab": {
          "base_uri": "https://localhost:8080/"
        },
        "id": "iWgwyPPj0HeW",
        "outputId": "36801c38-40ca-44c1-ce47-6d626d20d3fe"
      },
      "execution_count": null,
      "outputs": [
        {
          "output_type": "stream",
          "name": "stdout",
          "text": [
            "선수 입력 : 김김김\n",
            "1차, 2차 점수를 콤마로 구분하여 차례로 입력 : 7, 8.1\n",
            "판정 리스트 : ['김김김', ['7', ' 8.1']]\n",
            "이름: 김김김, 평균: 7.5, 판정: 본선진출\n"
          ]
        }
      ]
    },
    {
      "cell_type": "code",
      "source": [
        "numbers = [4, 7, 6, 3, 1, 8, 5]\n",
        "for i in range(len(numbers)-1, 0, -1):\n",
        "  for j in range(i):\n",
        "    if numbers[j] > numbers[j+1]:\n",
        "      temp = numbers[j]\n",
        "      numbers[j] = numbers[j+1]\n",
        "      numbers[j+1] = temp\n",
        "  print(\"pass\", len(numbers)-i, \":\", numbers)"
      ],
      "metadata": {
        "colab": {
          "base_uri": "https://localhost:8080/"
        },
        "id": "d5stDOZS0Hou",
        "outputId": "551fe611-01a6-4cd9-f903-5c083eab8058"
      },
      "execution_count": null,
      "outputs": [
        {
          "output_type": "stream",
          "name": "stdout",
          "text": [
            "pass 1 : [4, 6, 3, 1, 7, 5, 8]\n",
            "pass 2 : [4, 3, 1, 6, 5, 7, 8]\n",
            "pass 3 : [3, 1, 4, 5, 6, 7, 8]\n",
            "pass 4 : [1, 3, 4, 5, 6, 7, 8]\n",
            "pass 5 : [1, 3, 4, 5, 6, 7, 8]\n",
            "pass 6 : [1, 3, 4, 5, 6, 7, 8]\n"
          ]
        }
      ]
    }
  ]
}