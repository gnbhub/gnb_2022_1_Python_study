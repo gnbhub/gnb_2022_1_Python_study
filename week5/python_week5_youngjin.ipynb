{
  "nbformat": 4,
  "nbformat_minor": 0,
  "metadata": {
    "colab": {
      "name": "python_week5_youngjin.ipynb",
      "provenance": [],
      "authorship_tag": "ABX9TyOjl5FqTQuwzVB+7rMmO415",
      "include_colab_link": true
    },
    "kernelspec": {
      "name": "python3",
      "display_name": "Python 3"
    },
    "language_info": {
      "name": "python"
    }
  },
  "cells": [
    {
      "cell_type": "markdown",
      "metadata": {
        "id": "view-in-github",
        "colab_type": "text"
      },
      "source": [
        "<a href=\"https://colab.research.google.com/github/gnbhub/gnb_2022_1_Python_study/blob/master/week5/python_week5_youngjin.ipynb\" target=\"_parent\"><img src=\"https://colab.research.google.com/assets/colab-badge.svg\" alt=\"Open In Colab\"/></a>"
      ]
    },
    {
      "cell_type": "code",
      "execution_count": 3,
      "metadata": {
        "id": "_FRaAJtxmnLR",
        "colab": {
          "base_uri": "https://localhost:8080/"
        },
        "outputId": "a7dac608-d036-44eb-aa5e-5ceb25db6b0a"
      },
      "outputs": [
        {
          "output_type": "stream",
          "name": "stdout",
          "text": [
            "1. 빵, 2.패티, 3. 토마토, 4. 양상추, 5. 케첩, 6.마요네즈, 7.치즈, 8.양파\n",
            "햄버거 재료를 순서대로 입력 (예:1,2,3) : 1, 2, 4, 5, 8\n",
            "당신이 선택한 햄버거 재료\n",
            "빵 패티 양상추 케첩 양파 \n",
            "총 칼로리 : 484kal\n"
          ]
        }
      ],
      "source": [
        "recipe_list = [\"빵\", \"패티\", \"토마토\", \"양상추\", \"케첩\", \"마요네즈\", \"치즈\", \"양파\"]\n",
        "calorie_list = [168, 250, 20, 11, 15, 57, 60, 40]\n",
        "\n",
        "print(\"1. 빵, 2.패티, 3. 토마토, 4. 양상추, 5. 케첩, 6.마요네즈, 7.치즈, 8.양파\")\n",
        "recipe = input(\"햄버거 재료를 순서대로 입력 (예:1,2,3) : \")\n",
        "total_calorie = 0\n",
        "\n",
        "print(\"당신이 선택한 햄버거 재료\")\n",
        "for item in recipe.split(\",\"):\n",
        "  index = int(item)-1\n",
        "  print(recipe_list[index], end=\" \")\n",
        "  total_calorie += calorie_list[index]\n",
        "print(\"\\n총 칼로리 : %dkal\" %total_calorie)"
      ]
    },
    {
      "cell_type": "code",
      "source": [
        "names = [\"홍길동\", \"박지성\", \"김연아\"]\n",
        "\n",
        "print(\"이름 리스트\")\n",
        "for count in range(len(names)):\n",
        "  print(\"%d.%s\" %(count+1, names[count]), end=\" \")\n",
        "print()\n",
        "\n",
        "number = int(input(\"삽입 위치 입력 : \"))\n",
        "if number in range(1, len(names) + 2):\n",
        "  inname = input(\"이름 입력 : \")\n",
        "  names.insert(number-1, inname)\n",
        "else:\n",
        "  print(\"삽입할 수 없습니다\")\n",
        "\n",
        "search = input(\"수정할 이름 입력 : \")\n",
        "if search in names:\n",
        "  print(\"%s가 존재합니다\" %names[names.index(search)])\n",
        "  rename = input(\"바꿀이름을 입력하세요 : \")\n",
        "  names[names.index(search)] = rename\n",
        "else:\n",
        "  print(\"%s가 존재하지 않습니다\" %search)\n",
        "\n",
        "print(names)"
      ],
      "metadata": {
        "colab": {
          "base_uri": "https://localhost:8080/"
        },
        "id": "wrVFNmnQHtSy",
        "outputId": "b5202e4d-ef70-4ee2-c831-06445e31f016"
      },
      "execution_count": 4,
      "outputs": [
        {
          "output_type": "stream",
          "name": "stdout",
          "text": [
            "이름 리스트\n",
            "1.홍길동 2.박지성 3.김연아 \n",
            "삽입 위치 입력 : 3\n",
            "이름 입력 : 페이커\n",
            "수정할 이름 입력 : 홍길동\n",
            "홍길동가 존재합니다\n",
            "바꿀이름을 입력하세요 : 손흥민\n",
            "['손흥민', '박지성', '페이커', '김연아']\n"
          ]
        }
      ]
    },
    {
      "cell_type": "code",
      "source": [
        "names = []\n",
        "name_str = input(\"5명의 이름을 차례로 입력 : \")\n",
        "names = name_str.split()\n",
        "\n",
        "search = input(\"삭제할 이름을 입력 : \")\n",
        "if search in names:\n",
        "  names.remove(search)\n",
        "  print(\"%s가 삭제되었습니다\" %search)\n",
        "else:\n",
        "  print(\"%s가 존재하지 않습니다\" %search)\n",
        "\n",
        "print(\"이름 리스트\")\n",
        "for count in range(len(names)):\n",
        "  print(\"%d.%s\" %(count+1, names[count]), end=\" \")\n",
        "print()\n",
        "\n",
        "number = int(input(\"삭제할 번호를 입력 : \"))\n",
        "if number in range(1, 6):\n",
        "  print(\"%s가 삭제되었습니다\" %names.pop(number-1))\n",
        "else:\n",
        "  print(\"번호가 존재하지 않습니다\")\n",
        "print(names)"
      ],
      "metadata": {
        "colab": {
          "base_uri": "https://localhost:8080/"
        },
        "id": "TXKZAEl2HtaP",
        "outputId": "c90fba0b-07fb-4f1f-9a82-b11e2ff6ec87"
      },
      "execution_count": 5,
      "outputs": [
        {
          "output_type": "stream",
          "name": "stdout",
          "text": [
            "5명의 이름을 차례로 입력 : 손흥민 박지성 페이커 김연아 이승엽\n",
            "삭제할 이름을 입력 : 페이커\n",
            "페이커가 삭제되었습니다\n",
            "이름 리스트\n",
            "1.손흥민 2.박지성 3.김연아 4.이승엽 \n",
            "삭제할 번호를 입력 : 3\n",
            "김연아가 삭제되었습니다\n",
            "['손흥민', '박지성', '이승엽']\n"
          ]
        }
      ]
    },
    {
      "cell_type": "code",
      "source": [
        "matrix = []; item = 1\n",
        "\n",
        "for row in range(5):\n",
        "  rowlist = []\n",
        "  for col in range(5):\n",
        "    rowlist.append(item)\n",
        "    item += 1\n",
        "  matrix.append(rowlist)\n",
        "\n",
        "total = 0\n",
        "for fow in range(5):\n",
        " for col in range(row, 5):\n",
        "   total += matrix[row][col]\n",
        "print(\"대각선 오른쪽 위 요소의 합 : \", total)\n",
        "\n",
        "total = 0\n",
        "for row in range(5):\n",
        "  for col in range(0, row+1):\n",
        "    total += matrix[row][col]\n",
        "print(\"대각선 왼쪽 아래 요소의 합 : \", total)"
      ],
      "metadata": {
        "colab": {
          "base_uri": "https://localhost:8080/"
        },
        "id": "TdKlvGhyHtdz",
        "outputId": "a11f8ce0-494f-4335-b524-d97336851776"
      },
      "execution_count": 6,
      "outputs": [
        {
          "output_type": "stream",
          "name": "stdout",
          "text": [
            "대각선 오른쪽 위 요소의 합 :  125\n",
            "대각선 왼쪽 아래 요소의 합 :  235\n"
          ]
        }
      ]
    },
    {
      "cell_type": "code",
      "source": [
        "player = []\n",
        "name = input(\"선수 입력 : \")\n",
        "player.append(name)\n",
        "score = input(\"1차, 2차 점수를 콤마로 구분하여 차례로 입력 : \")\n",
        "player.append(score.split(\",\"))\n",
        "\n",
        "average = (float(player[1][0])+float(player[1][1])) / len(player[1])\n",
        "if average >= 5.0:\n",
        "  judge = \"본선 진출\"\n",
        "else:\n",
        "  judge = \"예선탈락\"\n",
        "\n",
        "print(\"판정 리스트 :\", player)\n",
        "print(\"이름 : %s, 평균 : %.1f, 판정 : %s\" %(player[0], average, judge))"
      ],
      "metadata": {
        "colab": {
          "base_uri": "https://localhost:8080/"
        },
        "id": "bKUwXg5kHtgG",
        "outputId": "c63ebc95-7ae7-446c-b4c5-2c860a5cc64f"
      },
      "execution_count": 7,
      "outputs": [
        {
          "output_type": "stream",
          "name": "stdout",
          "text": [
            "선수 입력 : 손흥민\n",
            "1차, 2차 점수를 콤마로 구분하여 차례로 입력 : 8.6, 9.8\n",
            "판정 리스트 : ['손흥민', ['8.6', ' 9.8']]\n",
            "이름 : 손흥민, 평균 : 9.2, 판정 : 본선 진출\n"
          ]
        }
      ]
    },
    {
      "cell_type": "code",
      "source": [
        "numbers = [4, 7, 6, 3, 1, 8, 5]\n",
        "\n",
        "for i in range(len(numbers)-1, 0, -1):\n",
        "  for j in range(i):\n",
        "    if numbers[j] > numbers[j+1]:\n",
        "      temp = numbers[j]\n",
        "      numbers[j] = numbers[j+1]\n",
        "      numbers[j+1] = temp\n",
        "  print(\"pass\", len(numbers)-i, \":\", numbers)"
      ],
      "metadata": {
        "colab": {
          "base_uri": "https://localhost:8080/"
        },
        "id": "dDiO2UfGHth9",
        "outputId": "dd5bc16d-2b3f-4d0e-ef1f-6caac86d6f35"
      },
      "execution_count": 8,
      "outputs": [
        {
          "output_type": "stream",
          "name": "stdout",
          "text": [
            "pass 1 : [4, 6, 3, 1, 7, 5, 8]\n",
            "pass 2 : [4, 3, 1, 6, 5, 7, 8]\n",
            "pass 3 : [3, 1, 4, 5, 6, 7, 8]\n",
            "pass 4 : [1, 3, 4, 5, 6, 7, 8]\n",
            "pass 5 : [1, 3, 4, 5, 6, 7, 8]\n",
            "pass 6 : [1, 3, 4, 5, 6, 7, 8]\n"
          ]
        }
      ]
    }
  ]
}