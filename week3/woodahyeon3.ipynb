{
  "nbformat": 4,
  "nbformat_minor": 0,
  "metadata": {
    "colab": {
      "name": "woodahyeon3.ipynb",
      "provenance": [],
      "authorship_tag": "ABX9TyPBy8frN/w2h8697/2Wafgj",
      "include_colab_link": true
    },
    "kernelspec": {
      "name": "python3",
      "display_name": "Python 3"
    },
    "language_info": {
      "name": "python"
    }
  },
  "cells": [
    {
      "cell_type": "markdown",
      "metadata": {
        "id": "view-in-github",
        "colab_type": "text"
      },
      "source": [
        "<a href=\"https://colab.research.google.com/github/gnbhub/gnb_2022_1_Python_study/blob/master/week3/woodahyeon3.ipynb\" target=\"_parent\"><img src=\"https://colab.research.google.com/assets/colab-badge.svg\" alt=\"Open In Colab\"/></a>"
      ]
    },
    {
      "cell_type": "code",
      "execution_count": 6,
      "metadata": {
        "colab": {
          "base_uri": "https://localhost:8080/"
        },
        "id": "zd8LmruZSu7g",
        "outputId": "52442e5e-b71d-474d-caa4-e78881fd922b"
      },
      "outputs": [
        {
          "output_type": "stream",
          "name": "stdout",
          "text": [
            "성별을 입력 (남:m, 여:f) : f\n",
            "나이 입력 : 21\n",
            "나이가 조건에 안맞습니다\n"
          ]
        }
      ],
      "source": [
        "gender = input(\"성별을 입력 (남:m, 여:f) : \")\n",
        "if gender.lower() == 'f':\n",
        "  age = int(input(\"나이 입력 : \"))\n",
        "  if 10 <= age <= 12:\n",
        "    print(\"입단이 가능합니다\")\n",
        "  else:\n",
        "    print(\"나이가 조건에 안맞습니다\")\n",
        "else:\n",
        "  print(\"여자만 모집합니다\")"
      ]
    },
    {
      "cell_type": "code",
      "source": [
        "print(\"1.덧셈, 2.뺄셈, 3.곱셈, 4.나눗셈\")\n",
        "menu = int(input(\"선택 : \"))\n",
        "if 1 <= menu <= 4:\n",
        "  number1 = int(input(\"첫 번째 수를 입력 : \"))\n",
        "  number2 = int(input(\"두 번째 수를 입력 : \"))\n",
        "if menu == 1:\n",
        "  print(\"결과 :\", number1+number2)\n",
        "elif menu == 2:\n",
        "  print(\"결과 :\", number1-number2)\n",
        "elif menu == 3:\n",
        "  print(\"결과 :\", number1*number2)\n",
        "elif menu == 4:\n",
        "  print(\"결과 :\", number1/number2)\n",
        "else:\n",
        "  print(\"메뉴 입력 에러\")"
      ],
      "metadata": {
        "colab": {
          "base_uri": "https://localhost:8080/"
        },
        "id": "htX4KRqdTRfM",
        "outputId": "73a81bc3-c16d-4353-e970-5cb1d9ad53f1"
      },
      "execution_count": 8,
      "outputs": [
        {
          "output_type": "stream",
          "name": "stdout",
          "text": [
            "1.덧셈, 2.뺄셈, 3.곱셈, 4.나눗셈\n",
            "선택 : 3\n",
            "첫 번째 수를 입력 : 45\n",
            "두 번째 수를 입력 : 4\n",
            "결과 : 180\n"
          ]
        }
      ]
    },
    {
      "cell_type": "code",
      "source": [
        "minNumber = int(input(\"작은 수 입력 : \"))\n",
        "maxNumber = int(input(\"큰 수 입력 : \"))\n",
        "while 1:\n",
        "  if minNumber >= maxNumber: break\n",
        "  minNumber += 1\n",
        "  maxNumber -= 1\n",
        "print(\"중간값 :\", minNumber)"
      ],
      "metadata": {
        "colab": {
          "base_uri": "https://localhost:8080/"
        },
        "id": "fa1PV62-TR96",
        "outputId": "3597f92d-8643-45b7-9fa6-c35e63cae69a"
      },
      "execution_count": 9,
      "outputs": [
        {
          "output_type": "stream",
          "name": "stdout",
          "text": [
            "작은 수 입력 : 6\n",
            "큰 수 입력 : 12\n",
            "중간값 : 9\n"
          ]
        }
      ]
    },
    {
      "cell_type": "code",
      "source": [
        "passwd = \"python1234\"\n",
        "tries = 1\n",
        "while tries < 6:\n",
        "  guess = input(\"비밀번호 : \");\n",
        "  if guess == passwd:\n",
        "    print(\"비밀번호가 일치합니다\")\n",
        "    break\n",
        "  else:\n",
        "    print(\"비밀번호가 일치하지 않습니다\")\n",
        "    if tries != 5:\n",
        "      print(\"비밀번호 %d회 오류입니다\" %tries)\n",
        "      print(\"총 %d회 남았습니다\" %(5-tries))\n",
        "    tries += 1\n",
        "else:\n",
        "  print(\"처음부터 다시 시작하세요\")"
      ],
      "metadata": {
        "colab": {
          "base_uri": "https://localhost:8080/"
        },
        "id": "K2kAWW20TSLj",
        "outputId": "de6a7ff8-d861-42e2-c31a-5c659939a1aa"
      },
      "execution_count": 11,
      "outputs": [
        {
          "output_type": "stream",
          "name": "stdout",
          "text": [
            "비밀번호 : python\n",
            "비밀번호가 일치하지 않습니다\n",
            "비밀번호 1회 오류입니다\n",
            "총 4회 남았습니다\n",
            "비밀번호 : python1\n",
            "비밀번호가 일치하지 않습니다\n",
            "비밀번호 2회 오류입니다\n",
            "총 3회 남았습니다\n",
            "비밀번호 : python2\n",
            "비밀번호가 일치하지 않습니다\n",
            "비밀번호 3회 오류입니다\n",
            "총 2회 남았습니다\n",
            "비밀번호 : python3\n",
            "비밀번호가 일치하지 않습니다\n",
            "비밀번호 4회 오류입니다\n",
            "총 1회 남았습니다\n",
            "비밀번호 : python123\n",
            "비밀번호가 일치하지 않습니다\n",
            "처음부터 다시 시작하세요\n"
          ]
        }
      ]
    },
    {
      "cell_type": "code",
      "source": [
        "total = 0\n",
        "for score in [100, 98, 85, 97, 74]:\n",
        "  total += score\n",
        "average = total / 5;\n",
        "print(\"합 : %d\" %total)\n",
        "print(\"평균 : %.2f\" %average)"
      ],
      "metadata": {
        "colab": {
          "base_uri": "https://localhost:8080/"
        },
        "id": "PWNbr2xJTSgA",
        "outputId": "ebb7ff76-9e45-4da8-b88a-b25e973d1d1d"
      },
      "execution_count": 12,
      "outputs": [
        {
          "output_type": "stream",
          "name": "stdout",
          "text": [
            "합 : 454\n",
            "평균 : 90.80\n"
          ]
        }
      ]
    },
    {
      "cell_type": "code",
      "source": [
        "for number in range(1, 101):\n",
        "  if number % 3 == 0 and number % 7 == 0:\n",
        "    print(number, end=\" \")"
      ],
      "metadata": {
        "colab": {
          "base_uri": "https://localhost:8080/"
        },
        "id": "1Y_4CZbnUrE1",
        "outputId": "5d851d5e-67d5-459f-e395-e73159c68519"
      },
      "execution_count": 13,
      "outputs": [
        {
          "output_type": "stream",
          "name": "stdout",
          "text": [
            "21 42 63 84 "
          ]
        }
      ]
    },
    {
      "cell_type": "code",
      "source": [
        "number = int(input(\"수를 입력 : \"))\n",
        "total = 0\n",
        "for count in range(1, number+1):\n",
        "  total += count\n",
        "  if total > 10000:\n",
        "    print(\"합이 10000을 넘는 수 :\", count)\n",
        "    break\n",
        "else:\n",
        "  print(\"합이 10000을 넘지 않습니다\")"
      ],
      "metadata": {
        "colab": {
          "base_uri": "https://localhost:8080/"
        },
        "id": "od2dBUfbU7L6",
        "outputId": "ad2ee31f-4642-49b6-b670-072842e098bb"
      },
      "execution_count": 17,
      "outputs": [
        {
          "output_type": "stream",
          "name": "stdout",
          "text": [
            "수를 입력 : 454\n",
            "합이 10000을 넘는 수 : 141\n"
          ]
        }
      ]
    },
    {
      "cell_type": "code",
      "source": [
        "for line in range(1, 6):\n",
        "  for star in range(line):\n",
        "    print(\"*\", end=\"\")\n",
        "  print()\n",
        "for line in range(1, 5):\n",
        "  for star in range(line, 5):\n",
        "    print(\"*\", end=\"\")\n",
        "  print()  "
      ],
      "metadata": {
        "colab": {
          "base_uri": "https://localhost:8080/"
        },
        "id": "TaYLbE5NU7de",
        "outputId": "56ce788b-6045-4162-d37a-3bfc06fb920a"
      },
      "execution_count": 19,
      "outputs": [
        {
          "output_type": "stream",
          "name": "stdout",
          "text": [
            "*\n",
            "**\n",
            "***\n",
            "****\n",
            "*****\n",
            "****\n",
            "***\n",
            "**\n",
            "*\n"
          ]
        }
      ]
    },
    {
      "cell_type": "code",
      "source": [
        "while 1:\n",
        "  prime = True\n",
        "  number = int(input(\"수를 입력 (0:종료) : \"))\n",
        "  if number == 0:\n",
        "    break\n",
        "  if number == 1:\n",
        "    print(\"값을 다시 입력하세요\")\n",
        "    continue\n",
        "  for count in range(2, number):\n",
        "    if number % count == 0:\n",
        "      prime = False\n",
        "      break\n",
        "  if prime:\n",
        "    print(\"소수입니다\")\n",
        "  else:\n",
        "    print(\"소수가 아닙니다\")"
      ],
      "metadata": {
        "colab": {
          "base_uri": "https://localhost:8080/"
        },
        "id": "WnA9IgFcU7xi",
        "outputId": "eae4629e-22bd-41b5-e2e4-422ffed795c5"
      },
      "execution_count": 21,
      "outputs": [
        {
          "name": "stdout",
          "output_type": "stream",
          "text": [
            "수를 입력 (0:종료) : 1\n",
            "값을 다시 입력하세요\n",
            "수를 입력 (0:종료) : 2\n",
            "소수입니다\n",
            "수를 입력 (0:종료) : 45\n",
            "소수가 아닙니다\n",
            "수를 입력 (0:종료) : 0\n"
          ]
        }
      ]
    }
  ]
}