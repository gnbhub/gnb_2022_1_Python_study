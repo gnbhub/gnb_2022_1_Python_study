{
  "nbformat": 4,
  "nbformat_minor": 0,
  "metadata": {
    "colab": {
      "name": "hyewonJang.ipynb",
      "provenance": [],
      "authorship_tag": "ABX9TyOdgolcgitIY1ev0ZZJriK6",
      "include_colab_link": true
    },
    "kernelspec": {
      "name": "python3",
      "display_name": "Python 3"
    },
    "language_info": {
      "name": "python"
    }
  },
  "cells": [
    {
      "cell_type": "markdown",
      "metadata": {
        "id": "view-in-github",
        "colab_type": "text"
      },
      "source": [
        "<a href=\"https://colab.research.google.com/github/gnbhub/gnb_2022_1_Python_study/blob/master/week3/hyewonJang.ipynb\" target=\"_parent\"><img src=\"https://colab.research.google.com/assets/colab-badge.svg\" alt=\"Open In Colab\"/></a>"
      ]
    },
    {
      "cell_type": "code",
      "execution_count": 1,
      "metadata": {
        "colab": {
          "base_uri": "https://localhost:8080/"
        },
        "id": "xGSFzmKxedxu",
        "outputId": "fc7503f0-2f68-436f-ff49-8f3826ac2ea4"
      },
      "outputs": [
        {
          "output_type": "stream",
          "name": "stdout",
          "text": [
            "성별을 입력 (남:m, 여:f) : f\n",
            "나이 입력: 11\n",
            "입단이 가능합니다.\n"
          ]
        }
      ],
      "source": [
        "gender = input(\"성별을 입력 (남:m, 여:f) : \")\n",
        "\n",
        "if gender.lower() == 'f':\n",
        "  age = int(input(\"나이 입력: \"))\n",
        "  if 10 <= age <= 12 :\n",
        "    print(\"입단이 가능합니다.\")\n",
        "  else:\n",
        "    print(\"나이가 조건에 안맞습니다.\")\n",
        "\n",
        "else:\n",
        "  print(\"여자만 모집합니다.\")"
      ]
    },
    {
      "cell_type": "code",
      "source": [
        "print(\"1.덧셈, 2. 뺼셈, 3.곱셈, 4.나눗셈\")\n",
        "menu = int(input(\"메뉴 선택:\"))\n",
        "\n",
        "if 1 <= menu <= 4:\n",
        "  number1 = int(input(\"첫 번째 수를 입력: \"))\n",
        "  number2 = int(input(\"두 번째 수를 입력: \"))\n",
        "\n",
        "if menu == 1:\n",
        "  print(\"결과 : \", number1+number2)\n",
        "elif menu == 2:\n",
        "  print(\"결과 : \", number1-number2)\n",
        "elif menu == 3:\n",
        "  print(\"결과 : \", number1*number2)\n",
        "elif menu == 4:\n",
        "  print(\"결과 : \", number1/number2)\n",
        "else:\n",
        "  print(\"메뉴 입력 에러\")"
      ],
      "metadata": {
        "colab": {
          "base_uri": "https://localhost:8080/"
        },
        "id": "wXqy8vPbgCZj",
        "outputId": "21e09938-8812-4245-f416-f23c44fbd159"
      },
      "execution_count": 2,
      "outputs": [
        {
          "output_type": "stream",
          "name": "stdout",
          "text": [
            "1.덧셈, 2. 뺼셈, 3.곱셈, 4.나눗셈\n",
            "메뉴 선택:2\n",
            "첫 번째 수를 입력: 3\n",
            "두 번째 수를 입력: 6\n",
            "결과 :  -3\n"
          ]
        }
      ]
    },
    {
      "cell_type": "code",
      "source": [
        "minNumber = int(input(\"작은 수 입력 : \"))\n",
        "maxNumber = int(input(\"큰 수 입력 : \"))\n",
        "\n",
        "while True:\n",
        "  if minNumber >= maxNumber:\n",
        "    break\n",
        "  minNumber += 1\n",
        "  maxNumber -= 1\n",
        "\n",
        "print(\"중간값 : \", minNumber)"
      ],
      "metadata": {
        "colab": {
          "base_uri": "https://localhost:8080/"
        },
        "id": "fTK6LfcbiqqF",
        "outputId": "098c1bdf-e698-47b7-c026-ef36bb979c8e"
      },
      "execution_count": 5,
      "outputs": [
        {
          "output_type": "stream",
          "name": "stdout",
          "text": [
            "작은 수 입력 : 10\n",
            "큰 수 입력 : 10000\n",
            "중간값 :  5005\n"
          ]
        }
      ]
    },
    {
      "cell_type": "code",
      "source": [
        "passwd = \"python1234\"\n",
        "tries = 1\n",
        "\n",
        "while tries < 6:\n",
        "  guess = input(\"비밀번호:\");\n",
        "  if guess == passwd:\n",
        "    print(\"비밀번호가 일치합니다.\")\n",
        "    break\n",
        "  else:\n",
        "    print(\"비밀번호가 일치하지 않습니다.\")\n",
        "    if tries != 5:\n",
        "      print(\"비밀번호 %d회 오류입니다\" %tries)\n",
        "      print(\"총 %d회 남았습니다\"%(5-tries))\n",
        "\n",
        "  tries += 1\n",
        "\n",
        "else:\n",
        "  print(\"처음부터 다시 시작하세요\")"
      ],
      "metadata": {
        "colab": {
          "base_uri": "https://localhost:8080/"
        },
        "id": "FbscsIUYkpTW",
        "outputId": "cf1c0323-9f79-4739-cf5e-7edc06e148bc"
      },
      "execution_count": 9,
      "outputs": [
        {
          "output_type": "stream",
          "name": "stdout",
          "text": [
            "비밀번호:sd\n",
            "비밀번호가 일치하지 않습니다.\n",
            "비밀번호 1회 오류입니다\n",
            "총 4회 남았습니다\n",
            "비밀번호:python1234\n",
            "비밀번호가 일치합니다.\n"
          ]
        }
      ]
    },
    {
      "cell_type": "code",
      "source": [
        "total = 0\n",
        "for score in[100, 98, 85, 97, 74]:\n",
        "  total += score\n",
        "average = total/5\n",
        "\n",
        "print(\"합 : %d\" %total)\n",
        "print(\"평균 : %.2f\" %average)"
      ],
      "metadata": {
        "colab": {
          "base_uri": "https://localhost:8080/"
        },
        "id": "IQzdAjSHmRVn",
        "outputId": "1c29b96d-47c2-4e85-db04-e46dfd9e3dd5"
      },
      "execution_count": 10,
      "outputs": [
        {
          "output_type": "stream",
          "name": "stdout",
          "text": [
            "합 : 454\n",
            "평균 : 90.80\n"
          ]
        }
      ]
    },
    {
      "cell_type": "code",
      "source": [
        "for number in range(1, 101):\n",
        "  if number %3 == 0 and number%7 ==0:\n",
        "    print(number, end=\" \")"
      ],
      "metadata": {
        "colab": {
          "base_uri": "https://localhost:8080/"
        },
        "id": "907EQYWLnihn",
        "outputId": "d7f3f6e6-0e80-4b22-cdca-a28d3337eda0"
      },
      "execution_count": 12,
      "outputs": [
        {
          "output_type": "stream",
          "name": "stdout",
          "text": [
            "21 42 63 84 "
          ]
        }
      ]
    },
    {
      "cell_type": "code",
      "source": [
        "number = int(input(\"수를 입력 : \"))\n",
        "total = 0\n",
        "for count in range(1, number+1):\n",
        "  total += count\n",
        "  if total > 10000:\n",
        "    print(\"합이 10000을 넘는 수: \", count)\n",
        "    break\n",
        "else:\n",
        "  print(\"합이 10000을 넘지 않습니다\")"
      ],
      "metadata": {
        "colab": {
          "base_uri": "https://localhost:8080/"
        },
        "id": "RpDtlooipGvD",
        "outputId": "900976d7-6c93-4999-b7a2-252de123eb8c"
      },
      "execution_count": 14,
      "outputs": [
        {
          "output_type": "stream",
          "name": "stdout",
          "text": [
            "수를 입력 : 10\n",
            "합이 10000을 넘지 않습니다\n"
          ]
        }
      ]
    },
    {
      "cell_type": "code",
      "source": [
        "for dice1 in range(1,7):\n",
        "  for dice2 in range(1,7):\n",
        "    if (dice1 + dice2)==6:\n",
        "      print(\"주사위1 : %d, 주사위2 : %d\" %(dice1, dice2))"
      ],
      "metadata": {
        "colab": {
          "base_uri": "https://localhost:8080/"
        },
        "id": "M4IyxJoPqCnO",
        "outputId": "f1b3ad5c-5688-4453-94f8-1b3b88e12ff9"
      },
      "execution_count": 15,
      "outputs": [
        {
          "output_type": "stream",
          "name": "stdout",
          "text": [
            "주사위1 : 1, 주사위2 : 5\n",
            "주사위1 : 2, 주사위2 : 4\n",
            "주사위1 : 3, 주사위2 : 3\n",
            "주사위1 : 4, 주사위2 : 2\n",
            "주사위1 : 5, 주사위2 : 1\n"
          ]
        }
      ]
    },
    {
      "cell_type": "code",
      "source": [
        "while True:\n",
        "  prime = True\n",
        "  number = int(input(\"수를 입력 (0:종료) : \"))\n",
        "\n",
        "  if number == 0:\n",
        "    break\n",
        "  if number == 1:\n",
        "    print(\"값을 다시 입력하세요\")\n",
        "    continue\n",
        "  \n",
        "  for count in range(2, number):\n",
        "    if number % count == 0:\n",
        "      prime = False\n",
        "      break\n",
        "  \n",
        "  if prime:\n",
        "    print(\"소수입니다\")\n",
        "  else:\n",
        "    print(\"소수가 아닙니다\")"
      ],
      "metadata": {
        "colab": {
          "base_uri": "https://localhost:8080/"
        },
        "id": "09xMZoVOrgOX",
        "outputId": "4c64c158-61c2-49c3-f636-8fd1eb139583"
      },
      "execution_count": 17,
      "outputs": [
        {
          "name": "stdout",
          "output_type": "stream",
          "text": [
            "수를 입력 (0:종료) : 11\n",
            "소수입니다\n",
            "수를 입력 (0:종료) : 16\n",
            "소수가 아닙니다\n",
            "수를 입력 (0:종료) : 0\n"
          ]
        }
      ]
    },
    {
      "cell_type": "code",
      "source": [
        ""
      ],
      "metadata": {
        "id": "jy5eXBHHsqkC"
      },
      "execution_count": null,
      "outputs": []
    }
  ]
}