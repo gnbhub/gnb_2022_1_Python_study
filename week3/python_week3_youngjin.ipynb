{
  "nbformat": 4,
  "nbformat_minor": 0,
  "metadata": {
    "colab": {
      "name": "python_week3_youngjin.ipynb",
      "provenance": [],
      "authorship_tag": "ABX9TyNJ36uXFX5czynXAGwDlsOP",
      "include_colab_link": true
    },
    "kernelspec": {
      "name": "python3",
      "display_name": "Python 3"
    },
    "language_info": {
      "name": "python"
    }
  },
  "cells": [
    {
      "cell_type": "markdown",
      "metadata": {
        "id": "view-in-github",
        "colab_type": "text"
      },
      "source": [
        "<a href=\"https://colab.research.google.com/github/gnbhub/gnb_2022_1_Python_study/blob/master/week3/python_week3_youngjin.ipynb\" target=\"_parent\"><img src=\"https://colab.research.google.com/assets/colab-badge.svg\" alt=\"Open In Colab\"/></a>"
      ]
    },
    {
      "cell_type": "code",
      "execution_count": 2,
      "metadata": {
        "colab": {
          "base_uri": "https://localhost:8080/"
        },
        "id": "_BplieCSpsA3",
        "outputId": "9e87f4bb-aadb-4189-a338-5c82865a6332"
      },
      "outputs": [
        {
          "output_type": "stream",
          "name": "stdout",
          "text": [
            "성별을 입력 (남:m, 여:f) : F\n",
            "나이 입력 : 11\n",
            "입단이 가능합니다\n"
          ]
        }
      ],
      "source": [
        "gender = input(\"성별을 입력 (남:m, 여:f) : \")\n",
        "if gender.lower() == 'f':\n",
        "  age = int(input(\"나이 입력 : \"))\n",
        "  if 10 <= age <= 12:\n",
        "    print(\"입단이 가능합니다\")\n",
        "  else:\n",
        "    print(\"나이가 조건에 안맞습니다\")\n",
        "else:\n",
        "  print(\"여자만 모집합니다\")"
      ]
    },
    {
      "cell_type": "code",
      "source": [
        "print(\"1.덧셈, 2.뺄셈, 3.곱셈, 4.나눗셈\")\n",
        "menu = int(input(\"메뉴 선택 : \"))\n",
        "\n",
        "if 1 <= menu <= 4:\n",
        "  number1 = int(input(\"첫 번째 수를 입력 : \"))\n",
        "  number2 = int(input(\"두 번째 수를 입력 : \"))\n",
        "\n",
        "if menu == 1:\n",
        "  print(\"결과 :\", number1+number2)\n",
        "elif menu == 2:\n",
        "  print(\"결과 :\", number1-number2)\n",
        "elif menu == 3:\n",
        "  print(\"결과 :\", number1*number2)\n",
        "elif menu == 4:\n",
        "  print(\"결과 :\", number1/number2)\n",
        "else:\n",
        "  print(\"메뉴 입력 에러\")"
      ],
      "metadata": {
        "colab": {
          "base_uri": "https://localhost:8080/"
        },
        "id": "TFww1t8jqhav",
        "outputId": "3b0d7a3a-7165-42b0-ce57-6f1e2e1d9029"
      },
      "execution_count": 3,
      "outputs": [
        {
          "output_type": "stream",
          "name": "stdout",
          "text": [
            "1.덧셈, 2.뺄셈, 3.곱셈, 4.나눗셈\n",
            "메뉴 선택 : 3\n",
            "첫 번째 수를 입력 : 20\n",
            "두 번째 수를 입력 : 3\n",
            "결과 : 60\n"
          ]
        }
      ]
    },
    {
      "cell_type": "code",
      "source": [
        "minNumber = int(input(\"작은 수 입력 : \"))\n",
        "maxNumber = int(input(\"큰 수 입력 : \"))\n",
        "\n",
        "while True:\n",
        "  if minNumber >= maxNumber:\n",
        "    break\n",
        "  minNumber += 1\n",
        "  maxNumber -= 1\n",
        "  \n",
        "print(\"중간값 :\", minNumber)"
      ],
      "metadata": {
        "colab": {
          "base_uri": "https://localhost:8080/"
        },
        "id": "B5YIyUWqq2qS",
        "outputId": "bfdadc3a-2352-4651-bc9a-d74922e47eba"
      },
      "execution_count": 4,
      "outputs": [
        {
          "output_type": "stream",
          "name": "stdout",
          "text": [
            "작은 수 입력 : 150\n",
            "큰 수 입력 : 480\n",
            "중간값 : 315\n"
          ]
        }
      ]
    },
    {
      "cell_type": "code",
      "source": [
        "passwd = \"python1234\"\n",
        "tries = 1\n",
        "\n",
        "while tries < 6:\n",
        "  guess = input(\"비밀번호 : \");\n",
        "  if guess == passwd:\n",
        "    print(\"비밀번호가 일치합니다\")\n",
        "    break\n",
        "  else:\n",
        "    print(\"비밀번호가 일치하지 않습니다\")\n",
        "    if tries != 5:\n",
        "      print(\"비밀번호 %d회 오류입니다\" %tries)\n",
        "      print(\"총 %d회 남았습니다\" %(5-tries))\n",
        "\n",
        "  tries += 1\n",
        "else:\n",
        "  print(\"처음부터 다시 시작하세요\")"
      ],
      "metadata": {
        "colab": {
          "base_uri": "https://localhost:8080/"
        },
        "id": "Z9oVhxBqrGTv",
        "outputId": "82b0a245-4ad3-41ce-86d7-2b2d7f1d0ef6"
      },
      "execution_count": 6,
      "outputs": [
        {
          "output_type": "stream",
          "name": "stdout",
          "text": [
            "비밀번호 : 1111\n",
            "비밀번호가 일치하지 않습니다\n",
            "비밀번호 1회 오류입니다\n",
            "총 4회 남았습니다\n",
            "비밀번호 : 1345\n",
            "비밀번호가 일치하지 않습니다\n",
            "비밀번호 2회 오류입니다\n",
            "총 3회 남았습니다\n",
            "비밀번호 : python1234\n",
            "비밀번호가 일치합니다\n"
          ]
        }
      ]
    },
    {
      "cell_type": "code",
      "source": [
        "total = 0\n",
        "for score in [100, 98, 85, 97, 74]:\n",
        "  total += score\n",
        "average = total / 5;\n",
        "\n",
        "print(\"합 : %d\" %total)\n",
        "print(\"평균 : %.2f\" %average)"
      ],
      "metadata": {
        "colab": {
          "base_uri": "https://localhost:8080/"
        },
        "id": "ymGUyAAarG23",
        "outputId": "ea545e24-5aa8-4a12-99f4-8195ab334093"
      },
      "execution_count": 7,
      "outputs": [
        {
          "output_type": "stream",
          "name": "stdout",
          "text": [
            "합 : 454\n",
            "평균 : 90.80\n"
          ]
        }
      ]
    },
    {
      "cell_type": "code",
      "source": [
        "for number in range(1, 101):\n",
        "  if number % 3 == 0 and number % 7 == 0:\n",
        "    print(number, end=\" \")"
      ],
      "metadata": {
        "colab": {
          "base_uri": "https://localhost:8080/"
        },
        "id": "2NR0yMTTrG6P",
        "outputId": "51df50a2-81a5-4673-b502-7334acdd3339"
      },
      "execution_count": 8,
      "outputs": [
        {
          "output_type": "stream",
          "name": "stdout",
          "text": [
            "21 42 63 84 "
          ]
        }
      ]
    },
    {
      "cell_type": "code",
      "source": [
        "number = int(input(\"수를 입력 : \"))\n",
        "total = 0\n",
        "for count in range(1, number+1):\n",
        "  total += count\n",
        "  if total > 10000:\n",
        "    print(\"합이 10000을 넘는 수 :\", count)\n",
        "    break\n",
        "else:\n",
        "  print(\"합이 10000을 넘지 않습니다\")"
      ],
      "metadata": {
        "colab": {
          "base_uri": "https://localhost:8080/"
        },
        "id": "6qC_VAY8sFcq",
        "outputId": "fd465f51-1326-44ac-b711-be8babf0030d"
      },
      "execution_count": 12,
      "outputs": [
        {
          "output_type": "stream",
          "name": "stdout",
          "text": [
            "수를 입력 : 1000\n",
            "합이 10000을 넘는 수 : 141\n"
          ]
        }
      ]
    },
    {
      "cell_type": "code",
      "source": [
        "for line in range(1, 6):\n",
        "  for star in range(line):\n",
        "    print(\"*\", end=\"\")\n",
        "  print()\n",
        "\n",
        "for line in range(1, 5):\n",
        "  for star in range(line, 5):\n",
        "    print(\"*\", end=\"\")\n",
        "  print()"
      ],
      "metadata": {
        "colab": {
          "base_uri": "https://localhost:8080/"
        },
        "id": "go1JRM5is6gf",
        "outputId": "87ddda0c-91e8-43a6-dc53-b787e2fedbd6"
      },
      "execution_count": 13,
      "outputs": [
        {
          "output_type": "stream",
          "name": "stdout",
          "text": [
            "*\n",
            "**\n",
            "***\n",
            "****\n",
            "*****\n",
            "****\n",
            "***\n",
            "**\n",
            "*\n"
          ]
        }
      ]
    },
    {
      "cell_type": "code",
      "source": [
        "while True:\n",
        "  prime = True\n",
        "  number = int(input(\"수를 입력 (0:종료) : \"))\n",
        "\n",
        "  if number == 0:\n",
        "    break\n",
        "  if number == 1:\n",
        "    print(\"값을 다시 입력하세요\")\n",
        "    continue\n",
        "\n",
        "  for count in range(2, number):\n",
        "    if number % count == 0:\n",
        "      prime = False\n",
        "      break\n",
        "\n",
        "  if prime:\n",
        "    print(\"소수입니다\")\n",
        "  else:\n",
        "    print(\"소수가 아닙니다\")"
      ],
      "metadata": {
        "colab": {
          "base_uri": "https://localhost:8080/"
        },
        "id": "LTpAGW7yt-xC",
        "outputId": "85ed35e3-963c-4781-9ca9-e380c5517076"
      },
      "execution_count": 14,
      "outputs": [
        {
          "name": "stdout",
          "output_type": "stream",
          "text": [
            "수를 입력 (0:종료) : 11\n",
            "소수입니다\n",
            "수를 입력 (0:종료) : 16\n",
            "소수가 아닙니다\n",
            "수를 입력 (0:종료) : 0\n"
          ]
        }
      ]
    }
  ]
}