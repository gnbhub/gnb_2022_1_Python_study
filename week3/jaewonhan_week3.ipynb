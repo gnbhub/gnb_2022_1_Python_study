{
  "nbformat": 4,
  "nbformat_minor": 0,
  "metadata": {
    "colab": {
      "name": "jaewonhan.ipynb",
      "provenance": [],
      "authorship_tag": "ABX9TyPg3Hk4ytRJN25uMrNDZoCm",
      "include_colab_link": true
    },
    "kernelspec": {
      "name": "python3",
      "display_name": "Python 3"
    },
    "language_info": {
      "name": "python"
    }
  },
  "cells": [
    {
      "cell_type": "markdown",
      "metadata": {
        "id": "view-in-github",
        "colab_type": "text"
      },
      "source": [
        "<a href=\"https://colab.research.google.com/github/gnbhub/gnb_2022_1_Python_study/blob/master/week3/jaewonhan_week3.ipynb\" target=\"_parent\"><img src=\"https://colab.research.google.com/assets/colab-badge.svg\" alt=\"Open In Colab\"/></a>"
      ]
    },
    {
      "cell_type": "code",
      "execution_count": 1,
      "metadata": {
        "colab": {
          "base_uri": "https://localhost:8080/"
        },
        "id": "CR29JxBHdM-z",
        "outputId": "c0d2a383-6346-481a-a13c-b88bfa214556"
      },
      "outputs": [
        {
          "name": "stdout",
          "output_type": "stream",
          "text": [
            "성별을 입력 (남: m, 여:f) : F\n"
          ]
        }
      ],
      "source": [
        "gender = input(\"성별을 입력 (남: m, 여:f) : \")"
      ]
    },
    {
      "cell_type": "code",
      "source": [
        "if gender.lower() == 'f':\n",
        "  age = int(input(\"나이 입력 : \"))\n",
        "  if 10 <= age <= 12:\n",
        "    print(\"입단이 가능합니다\")\n",
        "  else:\n",
        "    print(\"나이가 조건에 안맞습니다\")\n",
        "else:\n",
        "  print(\"여자만 모집합니다\")"
      ],
      "metadata": {
        "colab": {
          "base_uri": "https://localhost:8080/"
        },
        "id": "1xvOEdz9fvbH",
        "outputId": "ee9e2373-f8b3-4e28-a70b-b38040ac1a34"
      },
      "execution_count": 2,
      "outputs": [
        {
          "output_type": "stream",
          "name": "stdout",
          "text": [
            "나이 입력 : 11\n",
            "입단이 가능합니다\n"
          ]
        }
      ]
    },
    {
      "cell_type": "code",
      "source": [
        "print(\"1.덧셈, 2.뺄셈, 3.곱셈, 4.나눗셈\")\n",
        "menu = int(input(\"메뉴 선택 : \"))\n",
        "if 1 <= menu <= 4:\n",
        "  number1 = int(input(\"첫 번째 수를 입력 : \"))\n",
        "  number2 = int(input(\"두 번째 수를 입력 : \"))\n",
        "\n",
        "if menu == 1:\n",
        "  print(\"결과 :\",number1 + number2)\n",
        "elif menu == 2:\n",
        "  print(\"결과 :\",number1 - number2)\n",
        "elif menu == 3:\n",
        "  print(\"결과 :\",number1*number2)\n",
        "elif menu ==4:\n",
        "  print(\"결과 :\",number1/number2)\n",
        "else:\n",
        "  print(\"메뉴 입력 에러\")"
      ],
      "metadata": {
        "colab": {
          "base_uri": "https://localhost:8080/"
        },
        "id": "sP0oHDe5gnvp",
        "outputId": "7d936a6b-3a35-43e2-b627-870c0d399f76"
      },
      "execution_count": 6,
      "outputs": [
        {
          "output_type": "stream",
          "name": "stdout",
          "text": [
            "1.덧셈, 2.뺄셈, 3.곱셈, 4.나눗셈\n",
            "메뉴 선택 : 3\n",
            "첫 번째 수를 입력 : 20\n",
            "두 번째 수를 입력 : 2\n",
            "결과 : 40\n"
          ]
        }
      ]
    },
    {
      "cell_type": "code",
      "source": [
        "minNumber = int(input(\"작은 수 입력 :\"))\n",
        "maxNumber = int(input(\"큰 수 입력 :\"))\n",
        "\n",
        "while True:\n",
        "  if minNumber >= maxNumber:\n",
        "    break;\n",
        "  minNumber += 1\n",
        "  maxNumber -= 1\n",
        "\n",
        "print(\"중간값 :\",minNumber)"
      ],
      "metadata": {
        "colab": {
          "base_uri": "https://localhost:8080/"
        },
        "id": "Tt6Fl0ocidrg",
        "outputId": "c2bef077-4ac9-444c-c976-532e581498f7"
      },
      "execution_count": 10,
      "outputs": [
        {
          "output_type": "stream",
          "name": "stdout",
          "text": [
            "작은 수 입력 :100\n",
            "큰 수 입력 :10\n",
            "중간값 : 100\n"
          ]
        }
      ]
    },
    {
      "cell_type": "code",
      "source": [
        "passwd = \"python1234\"\n",
        "tries = 1\n",
        "\n",
        "while tries < 6:\n",
        "  guess = input(\"비밀번호 : \")\n",
        "  if guess == passwd:\n",
        "    print(\"비밀번호가 일치합니다\")\n",
        "    break\n",
        "  else:\n",
        "    print(\"비밀번호가 일치하지 않습니다\")\n",
        "    if tries != 5:\n",
        "      print(\"비밀번호 %d회 오류입니다\" %tries)\n",
        "      print(\"총 %d회 남았습니다\" %(5-tries))\n",
        "\n",
        "  tries += 1\n",
        "\n",
        "else:\n",
        "  print(\"처음부터 다시 시작하세요\")"
      ],
      "metadata": {
        "colab": {
          "base_uri": "https://localhost:8080/"
        },
        "id": "hy6wS-lskhQp",
        "outputId": "eec386de-d2b2-42cd-8912-2ef919c81617"
      },
      "execution_count": 15,
      "outputs": [
        {
          "output_type": "stream",
          "name": "stdout",
          "text": [
            "비밀번호 : 2345\n",
            "비밀번호가 일치하지 않습니다\n",
            "비밀번호 1회 오류입니다\n",
            "총 4회 남았습니다\n",
            "비밀번호 : python1234\n",
            "비밀번호가 일치합니다\n"
          ]
        }
      ]
    },
    {
      "cell_type": "code",
      "source": [
        "total = 0\n",
        "for score in [100,98,85,97,74]:\n",
        "  total += score\n",
        "average = total /5\n",
        "\n",
        "print(\"합 : %d\" %total)\n",
        "print(\"평균 : %.2f\" %average)"
      ],
      "metadata": {
        "colab": {
          "base_uri": "https://localhost:8080/"
        },
        "id": "G3xqxmQMmMkP",
        "outputId": "865892f5-fff1-4d97-ce07-97a63ac32392"
      },
      "execution_count": 17,
      "outputs": [
        {
          "output_type": "stream",
          "name": "stdout",
          "text": [
            "합 : 454\n",
            "평균 : 90.80\n"
          ]
        }
      ]
    },
    {
      "cell_type": "code",
      "source": [
        "#3과 7의 공배수\n",
        "for number in range(1,101):\n",
        "  if number % 3 == 0 and number % 7 == 0:\n",
        "    print(number, end=\" \")"
      ],
      "metadata": {
        "colab": {
          "base_uri": "https://localhost:8080/"
        },
        "id": "RYDC2b9nnexA",
        "outputId": "e2779d33-4ed3-4792-f236-e6143991daf3"
      },
      "execution_count": 19,
      "outputs": [
        {
          "output_type": "stream",
          "name": "stdout",
          "text": [
            "21 42 63 84 "
          ]
        }
      ]
    },
    {
      "cell_type": "code",
      "source": [
        "number = int(input(\"수를 입력 : \"))\n",
        "total = 0\n",
        "for count in range(1, number+1):\n",
        "  total += count\n",
        "  if total > 10000:\n",
        "    print(\"합이 10000을 넘는 수 :\", count)\n",
        "    break\n",
        "else:\n",
        "  print(\"합이 10000을 넘지 않습니다\")"
      ],
      "metadata": {
        "colab": {
          "base_uri": "https://localhost:8080/"
        },
        "id": "5ViUp7o_pBip",
        "outputId": "e3128b8f-28d2-4071-97f9-b54b69aeb919"
      },
      "execution_count": 21,
      "outputs": [
        {
          "output_type": "stream",
          "name": "stdout",
          "text": [
            "수를 입력 : 1000\n",
            "합이 10000을 넘는 수 : 141\n"
          ]
        }
      ]
    },
    {
      "cell_type": "code",
      "source": [
        "for line in range(1,6):\n",
        "  for star in range(line):\n",
        "    print(\"*\", end=\"\")\n",
        "  print()\n",
        "  \n",
        "for line in range(1,5):\n",
        "  for star in range(line,5):\n",
        "    print(\"*\",end=\"\")\n",
        "  print()"
      ],
      "metadata": {
        "colab": {
          "base_uri": "https://localhost:8080/"
        },
        "id": "uxD0nmy-qB9c",
        "outputId": "116fa162-6780-4770-db7e-2def22a86327"
      },
      "execution_count": 24,
      "outputs": [
        {
          "output_type": "stream",
          "name": "stdout",
          "text": [
            "*\n",
            "**\n",
            "***\n",
            "****\n",
            "*****\n",
            "****\n",
            "***\n",
            "**\n",
            "*\n"
          ]
        }
      ]
    },
    {
      "cell_type": "code",
      "source": [
        "while True:\n",
        "  prime = True\n",
        "  number = int(input(\"수를 입력 (0:종료) : \"))\n",
        "\n",
        "  if number == 0:\n",
        "    break\n",
        "  if number == 1:\n",
        "    print(\"값을 다시 입력하세요\")\n",
        "    continue\n",
        "\n",
        "  for count in range(2, number):\n",
        "    if number % count == 0:\n",
        "      prime = False\n",
        "      break\n",
        "\n",
        "  if prime:\n",
        "    print(\"소수입니다\")\n",
        "  else:\n",
        "    print(\"소수가 아닙니다\")"
      ],
      "metadata": {
        "colab": {
          "base_uri": "https://localhost:8080/"
        },
        "id": "7xLoZW1lrXSo",
        "outputId": "501bcf1e-8dc7-489d-a249-51545b7d1ffd"
      },
      "execution_count": 25,
      "outputs": [
        {
          "name": "stdout",
          "output_type": "stream",
          "text": [
            "수를 입력 (0:종료) : 11\n",
            "소수입니다\n",
            "수를 입력 (0:종료) : 16\n",
            "소수가 아닙니다\n",
            "수를 입력 (0:종료) : 0\n"
          ]
        }
      ]
    },
    {
      "cell_type": "code",
      "source": [
        ""
      ],
      "metadata": {
        "id": "aaTNxnfbsp7X"
      },
      "execution_count": null,
      "outputs": []
    }
  ]
}