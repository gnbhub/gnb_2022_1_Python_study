{
  "nbformat": 4,
  "nbformat_minor": 0,
  "metadata": {
    "colab": {
      "name": "HyewonJangipynb",
      "provenance": [],
      "authorship_tag": "ABX9TyMpdG+4n8MXce9C7VNLHeOJ",
      "include_colab_link": true
    },
    "kernelspec": {
      "name": "python3",
      "display_name": "Python 3"
    },
    "language_info": {
      "name": "python"
    }
  },
  "cells": [
    {
      "cell_type": "markdown",
      "metadata": {
        "id": "view-in-github",
        "colab_type": "text"
      },
      "source": [
        "<a href=\"https://colab.research.google.com/github/gnbhub/gnb_2022_1_Python_study/blob/master/week7/HyewonJangipynb.ipynb\" target=\"_parent\"><img src=\"https://colab.research.google.com/assets/colab-badge.svg\" alt=\"Open In Colab\"/></a>"
      ]
    },
    {
      "cell_type": "code",
      "execution_count": 2,
      "metadata": {
        "colab": {
          "base_uri": "https://localhost:8080/"
        },
        "id": "9czKjTAdFSj_",
        "outputId": "ec6048e0-eff3-4f21-81fd-d7b90ae2bc9d"
      },
      "outputs": [
        {
          "output_type": "stream",
          "name": "stdout",
          "text": [
            "첫 번째 수: 9\n",
            "두 번째 수: 7\n",
            "(16, 2, 63, 1.2857142857142858)\n",
            "덧셈: 16\n",
            "뺄셈: 2\n",
            "곱셈: 63\n",
            "나눗셈: 1.3\n"
          ]
        }
      ],
      "source": [
        "def calculator(num1, num2):\n",
        "  add = num1 + num2\n",
        "  sub = num1 - num2\n",
        "  mul = num1 * num2\n",
        "  div = num1 / num2\n",
        "  return add, sub, mul, div\n",
        "\n",
        "num1 = int(input(\"첫 번째 수: \"))\n",
        "num2 = int(input(\"두 번째 수: \"))\n",
        "result = calculator(num1, num2)\n",
        "print(result)\n",
        "print(\"덧셈: %d\" %result[0])\n",
        "print(\"뺄셈: %d\" %result[1])\n",
        "print(\"곱셈: %d\" %result[2])\n",
        "print(\"나눗셈: %.1f\" %result[3])"
      ]
    },
    {
      "cell_type": "code",
      "source": [
        "def display():\n",
        "  lnumber = 0\n",
        "  print(\"함수안 지역변수 : \", lnumber)\n",
        "  print(\"함수안 전역변수 : \", gnumber)\n",
        "\n",
        "lnumber = 10\n",
        "gnumber = 100\n",
        "print(\"함수밖 지역변수 : \", lnumber)\n",
        "print(\"함수밖 전역변수 : \", gnumber)\n",
        "display()"
      ],
      "metadata": {
        "colab": {
          "base_uri": "https://localhost:8080/"
        },
        "id": "a5Tx80b3GEO2",
        "outputId": "5516599d-6199-4824-a493-2381e4b93bbb"
      },
      "execution_count": 4,
      "outputs": [
        {
          "output_type": "stream",
          "name": "stdout",
          "text": [
            "함수밖 지역변수 :  10\n",
            "함수밖 전역변수 :  100\n",
            "함수안 지역변수 :  0\n",
            "함수안 전역변수 :  100\n"
          ]
        }
      ]
    },
    {
      "cell_type": "code",
      "source": [
        "def max_min(numbers):\n",
        "  max_number = numbers[0]\n",
        "  for item in numbers:\n",
        "    if max_number < item:\n",
        "      max_number = item\n",
        "  \n",
        "  min_number = numbers[0]\n",
        "  for item in numbers:\n",
        "    if min_number > item:\n",
        "      min_number = item\n",
        "  \n",
        "  return max_number, min_number\n",
        "\n",
        "numbers = (2, 3, 5, 1, 4, 6)\n",
        "maximum, minimum = max_min(numbers)\n",
        "print(\"최대값: \", maximum)\n",
        "print(\"최소값: \", minimum)"
      ],
      "metadata": {
        "colab": {
          "base_uri": "https://localhost:8080/"
        },
        "id": "_AWu9QCQGqgl",
        "outputId": "1f5b9b83-93ec-458f-fa57-08726b575acb"
      },
      "execution_count": 5,
      "outputs": [
        {
          "output_type": "stream",
          "name": "stdout",
          "text": [
            "최대값:  6\n",
            "최소값:  1\n"
          ]
        }
      ]
    },
    {
      "cell_type": "code",
      "source": [
        "def calculator(op, *numbers):\n",
        "  if op == \"+\":\n",
        "    result = 0\n",
        "    for item in numbers:\n",
        "      result += item\n",
        "  elif op == \"*\":\n",
        "    result = 1\n",
        "    for item in numbers:\n",
        "      result *= item\n",
        "  else:\n",
        "    print(\"덧셈과 곱셈만 가능\")\n",
        "\n",
        "  return result\n",
        "\n",
        "print(\"결과 : %d\" %calculator(\"+\", 1,2,3,4))\n",
        "print(\"결과 : %d\" %calculator('*', 1,2,3,4))"
      ],
      "metadata": {
        "colab": {
          "base_uri": "https://localhost:8080/"
        },
        "id": "-YtaiEU9HUcK",
        "outputId": "434a0b0b-9c0f-49a7-fdeb-158ebb149cf1"
      },
      "execution_count": 6,
      "outputs": [
        {
          "output_type": "stream",
          "name": "stdout",
          "text": [
            "결과 : 10\n",
            "결과 : 24\n"
          ]
        }
      ]
    },
    {
      "cell_type": "code",
      "source": [
        "def is_odd(number):\n",
        "  if number % 2 == 1:\n",
        "    return True\n",
        "  else:\n",
        "    return False\n",
        "\n",
        "print(is_odd(3))\n",
        "print(is_odd(4))"
      ],
      "metadata": {
        "colab": {
          "base_uri": "https://localhost:8080/"
        },
        "id": "_YNY_h9AH0sx",
        "outputId": "2ae312dc-77d4-4a13-b991-41aade7a4a0b"
      },
      "execution_count": 10,
      "outputs": [
        {
          "output_type": "stream",
          "name": "stdout",
          "text": [
            "True\n",
            "False\n"
          ]
        }
      ]
    },
    {
      "cell_type": "code",
      "source": [
        ""
      ],
      "metadata": {
        "id": "mXHtPSkjICD4"
      },
      "execution_count": null,
      "outputs": []
    }
  ]
}