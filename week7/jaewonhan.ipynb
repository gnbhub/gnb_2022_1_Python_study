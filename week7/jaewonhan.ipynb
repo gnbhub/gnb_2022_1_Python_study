{
  "nbformat": 4,
  "nbformat_minor": 0,
  "metadata": {
    "colab": {
      "name": "Untitled8.ipynb",
      "provenance": [],
      "authorship_tag": "ABX9TyP0GmHRQiPiFjMEfs5PJMwT",
      "include_colab_link": true
    },
    "kernelspec": {
      "name": "python3",
      "display_name": "Python 3"
    },
    "language_info": {
      "name": "python"
    }
  },
  "cells": [
    {
      "cell_type": "markdown",
      "metadata": {
        "id": "view-in-github",
        "colab_type": "text"
      },
      "source": [
        "<a href=\"https://colab.research.google.com/github/gnbhub/gnb_2022_1_Python_study/blob/master/week7/jaewonhan.ipynb\" target=\"_parent\"><img src=\"https://colab.research.google.com/assets/colab-badge.svg\" alt=\"Open In Colab\"/></a>"
      ]
    },
    {
      "cell_type": "code",
      "execution_count": 3,
      "metadata": {
        "colab": {
          "base_uri": "https://localhost:8080/"
        },
        "id": "hY9W1GDV7sOM",
        "outputId": "7cc29007-dbd2-41f5-f44d-8de9599e32cf"
      },
      "outputs": [
        {
          "output_type": "stream",
          "name": "stdout",
          "text": [
            "첫 번째 수 : 9\n",
            "두 번째 수 : 7\n",
            "(16, 2, 63, 1.2857142857142858)\n",
            "덧셈 : 16\n",
            "뺄셈 : 2\n",
            "곱셈 : 63\n",
            "나눗셈 : 1.3\n"
          ]
        }
      ],
      "source": [
        "#11-7\n",
        "def calculator(num1, num2):\n",
        "  add = num1 + num2\n",
        "  sub = num1 - num2\n",
        "  mul = num1 * num2\n",
        "  div = num1 / num2\n",
        "  return add, sub, mul, div\n",
        "number1 = int(input(\"첫 번째 수 : \"))\n",
        "number2 = int(input(\"두 번째 수 : \"))\n",
        "result = calculator(number1, number2)\n",
        "print(result)\n",
        "print(\"덧셈 : %d\" %result[0])\n",
        "print(\"뺄셈 : %d\" %result[1])\n",
        "print(\"곱셈 : %d\" %result[2])\n",
        "print(\"나눗셈 : %.1f\" %result[3])"
      ]
    },
    {
      "cell_type": "code",
      "source": [
        "#11-8\n",
        "def display():\n",
        "  lnumber = 0\n",
        "  print(\"함수안 지역변수 : \", lnumber)\n",
        "  print(\"함수안 전역변수 : \",gnumber)\n",
        "lnumber = 10\n",
        "gnumber = 100\n",
        "print(\"함수밖 지역변수 :\", lnumber)\n",
        "print(\"함수밖 전역변수 :\", gnumber)\n",
        "display()"
      ],
      "metadata": {
        "colab": {
          "base_uri": "https://localhost:8080/"
        },
        "id": "IVb84bH19E5s",
        "outputId": "63ed6273-7365-40b5-f7c2-f9895bb33f67"
      },
      "execution_count": 4,
      "outputs": [
        {
          "output_type": "stream",
          "name": "stdout",
          "text": [
            "함수밖 지역변수 : 10\n",
            "함수밖 전역변수 : 100\n",
            "함수안 지역변수 :  0\n",
            "함수안 전역변수 :  100\n"
          ]
        }
      ]
    },
    {
      "cell_type": "code",
      "source": [
        "#11-13\n",
        "def max_min(numbers):\n",
        "  max_number = numbers[0]\n",
        "  for item in numbers:\n",
        "    if max_number < item:\n",
        "      max_number = item\n",
        "  \n",
        "  min_number = numbers[0]\n",
        "  for item in numbers:\n",
        "    if min_number > item:\n",
        "      min_number = item\n",
        "    \n",
        "  return max_number, min_number\n",
        "\n",
        "numbers = (2,3,5,1,4,6)\n",
        "maximum, minimum = max_min(numbers)\n",
        "print(\"최대값 :\", maximum)\n",
        "print(\"최소값 :\", minimum)"
      ],
      "metadata": {
        "colab": {
          "base_uri": "https://localhost:8080/"
        },
        "id": "GgcckWwV_-3R",
        "outputId": "5f961397-d702-426e-ffe2-0b66a54ac8b7"
      },
      "execution_count": 11,
      "outputs": [
        {
          "output_type": "stream",
          "name": "stdout",
          "text": [
            "최대값 : 6\n",
            "최소값 : 1\n"
          ]
        }
      ]
    },
    {
      "cell_type": "code",
      "source": [
        "#11-17\n",
        "def calculator(op, *numbers):\n",
        "  if op == \"+\":\n",
        "    result = 0\n",
        "    for item in numbers:\n",
        "      result += item\n",
        "  elif op == \"*\":\n",
        "    result = 1\n",
        "    for item in numbers:\n",
        "      result *= item\n",
        "  else:\n",
        "    print(\"덧셈과 곱셈만 가능\")\n",
        "  \n",
        "  return result\n",
        "\n",
        "print(\"결과 : %d\" %calculator(\"+\", 1,2,3,4))\n",
        "print(\"결과 : %d\" %calculator(\"*\", 1,2,3,4))"
      ],
      "metadata": {
        "colab": {
          "base_uri": "https://localhost:8080/"
        },
        "id": "NL_auncT-Kha",
        "outputId": "57459161-2495-4e79-d171-508c65a16c4d"
      },
      "execution_count": 6,
      "outputs": [
        {
          "output_type": "stream",
          "name": "stdout",
          "text": [
            "결과 : 10\n",
            "결과 : 24\n"
          ]
        }
      ]
    },
    {
      "cell_type": "code",
      "source": [
        "#[문제3]\n",
        "def gugu(n):\n",
        "  for i in range(1,10):\n",
        "    print(n*i)\n",
        "\n",
        "gugu(2)"
      ],
      "metadata": {
        "colab": {
          "base_uri": "https://localhost:8080/"
        },
        "id": "Mcr7KgHn-p5z",
        "outputId": "a3d275e4-e608-4088-e81f-076c3f1b0537"
      },
      "execution_count": 8,
      "outputs": [
        {
          "output_type": "stream",
          "name": "stdout",
          "text": [
            "2\n",
            "4\n",
            "6\n",
            "8\n",
            "10\n",
            "12\n",
            "14\n",
            "16\n",
            "18\n"
          ]
        }
      ]
    },
    {
      "cell_type": "code",
      "source": [
        ""
      ],
      "metadata": {
        "id": "Wvp4snWy-8Io"
      },
      "execution_count": null,
      "outputs": []
    }
  ]
}