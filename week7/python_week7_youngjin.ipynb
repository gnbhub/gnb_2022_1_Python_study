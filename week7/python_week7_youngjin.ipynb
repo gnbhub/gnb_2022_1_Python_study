{
  "nbformat": 4,
  "nbformat_minor": 0,
  "metadata": {
    "colab": {
      "name": "python_week7_youngjin.ipynb",
      "provenance": [],
      "authorship_tag": "ABX9TyOpbEyPmrduHuU5C5YhQ8rH",
      "include_colab_link": true
    },
    "kernelspec": {
      "name": "python3",
      "display_name": "Python 3"
    },
    "language_info": {
      "name": "python"
    }
  },
  "cells": [
    {
      "cell_type": "markdown",
      "metadata": {
        "id": "view-in-github",
        "colab_type": "text"
      },
      "source": [
        "<a href=\"https://colab.research.google.com/github/gnbhub/gnb_2022_1_Python_study/blob/master/week7/python_week7_youngjin.ipynb\" target=\"_parent\"><img src=\"https://colab.research.google.com/assets/colab-badge.svg\" alt=\"Open In Colab\"/></a>"
      ]
    },
    {
      "cell_type": "code",
      "execution_count": 1,
      "metadata": {
        "colab": {
          "base_uri": "https://localhost:8080/"
        },
        "id": "flk9bcWdIMe0",
        "outputId": "ab22f36a-7057-4cdb-9ec0-8feb74ef031e"
      },
      "outputs": [
        {
          "output_type": "stream",
          "name": "stdout",
          "text": [
            "첫 번째 수 : 9\n",
            "두 번째 수 : 7\n",
            "(16, 2, 63, 1.2857142857142858)\n",
            "덧셈 : 16\n",
            "뺄셈 : 2\n",
            "곱셈 : 63\n",
            "나눗셈 : 1.3\n"
          ]
        }
      ],
      "source": [
        "def calculator(num1, num2):\n",
        "  add = num1 + num2\n",
        "  sub = num1 - num2\n",
        "  mul = num1 * num2\n",
        "  div = num1 / num2\n",
        "  return add, sub, mul, div\n",
        "\n",
        "number1 = int(input(\"첫 번째 수 : \"))\n",
        "number2 = int(input(\"두 번째 수 : \"))\n",
        "result = calculator(number1, number2)\n",
        "\n",
        "print(result)\n",
        "print(\"덧셈 : %d\" %result[0])\n",
        "print(\"뺄셈 : %d\" %result[1])\n",
        "print(\"곱셈 : %d\" %result[2])\n",
        "print(\"나눗셈 : %.1f\" %result[3])"
      ]
    },
    {
      "cell_type": "code",
      "source": [
        "def display():\n",
        "  lnumber = 0\n",
        "  print(\"함수안 지역변수 :\", lnumber)\n",
        "  print(\"함수안 전역변수 :\", gnumber)\n",
        "\n",
        "lnumber = 10\n",
        "gnumber = 100\n",
        "print(\"함수밖 지역변수 :\", lnumber)\n",
        "print(\"함수밖 전역변수 :\", gnumber)\n",
        "display()"
      ],
      "metadata": {
        "colab": {
          "base_uri": "https://localhost:8080/"
        },
        "id": "AC74vm_NIm5z",
        "outputId": "7c0dbb94-ae23-4baf-bcb0-f7f44dde32c3"
      },
      "execution_count": 2,
      "outputs": [
        {
          "output_type": "stream",
          "name": "stdout",
          "text": [
            "함수밖 지역변수 : 10\n",
            "함수밖 전역변수 : 100\n",
            "함수안 지역변수 : 0\n",
            "함수안 전역변수 : 100\n"
          ]
        }
      ]
    },
    {
      "cell_type": "code",
      "source": [
        "def max_min(numbers):\n",
        "  max_number = numbers[0]\n",
        "  for item in numbers:\n",
        "    if max_number < item:\n",
        "      max_number = item\n",
        "  min_number = numbers[0]\n",
        "  for item in numbers:\n",
        "    if min_number > item:\n",
        "      min_number = item\n",
        "  return max_number, min_number\n",
        "\n",
        "numbers = (2, 3, 5, 1, 4, 6)\n",
        "maximum, minimum = max_min(numbers)\n",
        "print(\"최대값 :\", maximum)\n",
        "print(\"최소값 :\", minimum)"
      ],
      "metadata": {
        "colab": {
          "base_uri": "https://localhost:8080/"
        },
        "id": "5kuXTiq-IuHq",
        "outputId": "87c37d87-87e5-4be9-b016-5cde0797cf1a"
      },
      "execution_count": 3,
      "outputs": [
        {
          "output_type": "stream",
          "name": "stdout",
          "text": [
            "최대값 : 6\n",
            "최소값 : 1\n"
          ]
        }
      ]
    },
    {
      "cell_type": "code",
      "source": [
        "def calculator(op, *numbers):\n",
        "  if op == \"+\":\n",
        "    result = 0\n",
        "    for item in numbers:\n",
        "      result += item\n",
        "  elif op == \"*\":\n",
        "    result = 1\n",
        "    for item in numbers:\n",
        "      result *= item\n",
        "  else:\n",
        "    print(\"덧셈과 곱셈만 가능\")\n",
        "  return result\n",
        "\n",
        "print(\"결과 : %d\" %calculator(\"+\", 1,2,3,4))\n",
        "print(\"결과 : %d\" %calculator(\"*\", 1,2,3,4))"
      ],
      "metadata": {
        "colab": {
          "base_uri": "https://localhost:8080/"
        },
        "id": "-tzpz-_0I9tT",
        "outputId": "4257d95c-74ec-468c-9523-d483842c486e"
      },
      "execution_count": 4,
      "outputs": [
        {
          "output_type": "stream",
          "name": "stdout",
          "text": [
            "결과 : 10\n",
            "결과 : 24\n"
          ]
        }
      ]
    },
    {
      "cell_type": "code",
      "source": [
        "def is_odd(number):\n",
        "    if number%2==1:\n",
        "      return True\n",
        "\n",
        "    else:\n",
        "      return False\n",
        "\n",
        "is_odd(3)"
      ],
      "metadata": {
        "colab": {
          "base_uri": "https://localhost:8080/"
        },
        "id": "xDG5zcnYJCNk",
        "outputId": "87a91173-9b29-470e-874b-386df76588e5"
      },
      "execution_count": 5,
      "outputs": [
        {
          "output_type": "execute_result",
          "data": {
            "text/plain": [
              "True"
            ]
          },
          "metadata": {},
          "execution_count": 5
        }
      ]
    }
  ]
}