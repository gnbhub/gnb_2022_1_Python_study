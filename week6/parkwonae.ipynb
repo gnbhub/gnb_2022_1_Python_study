{
  "nbformat": 4,
  "nbformat_minor": 0,
  "metadata": {
    "colab": {
      "name": "Untitled14.ipynb",
      "provenance": [],
      "authorship_tag": "ABX9TyPjP92r2PnC4ThY/Aj9zh0r",
      "include_colab_link": true
    },
    "kernelspec": {
      "name": "python3",
      "display_name": "Python 3"
    },
    "language_info": {
      "name": "python"
    }
  },
  "cells": [
    {
      "cell_type": "markdown",
      "metadata": {
        "id": "view-in-github",
        "colab_type": "text"
      },
      "source": [
        "<a href=\"https://colab.research.google.com/github/gnbhub/gnb_2022_1_Python_study/blob/master/week6/parkwonae.ipynb\" target=\"_parent\"><img src=\"https://colab.research.google.com/assets/colab-badge.svg\" alt=\"Open In Colab\"/></a>"
      ]
    },
    {
      "cell_type": "code",
      "execution_count": 1,
      "metadata": {
        "colab": {
          "base_uri": "https://localhost:8080/"
        },
        "id": "PSfYkOiDDDz_",
        "outputId": "0d24e743-4620-4054-a074-5c5934cf0dce"
      },
      "outputs": [
        {
          "output_type": "stream",
          "name": "stdout",
          "text": [
            "과일 이름 입력: 사과\n",
            "가격 입력: 1500\n",
            "과일 이름 입력: 바나나\n",
            "가격 입력: 1300\n",
            "과일 이름 입력: 레몬\n",
            "가격 입력: 2000\n",
            "{'사과': 1500, '바나나': 1300, '레몬': 2000}\n"
          ]
        }
      ],
      "source": [
        "fruit={}\n",
        "\n",
        "for count in range(3):\n",
        "  name = input(\"과일 이름 입력: \")\n",
        "  price=int(input(\"가격 입력: \"))\n",
        "  fruit[name]=price\n",
        "\n",
        "print(fruit)"
      ]
    },
    {
      "cell_type": "code",
      "source": [
        "fruit={\"apple\":1500, \"banana\":1300, \"melon\":2000}\n",
        "count = 0\n",
        "\n",
        "for key, item in fruit.items():\n",
        "  count+=1\n",
        "  print(\"%d.%s(%d원)\" %(count, key, item))\n",
        "\n",
        "total=0\n",
        "for key in fruit.keys():\n",
        "  print(\"%s의 개수: \" %key, end=\"\")\n",
        "  number=int(input())\n",
        "  total=total+(fruit[key]*number)\n",
        "\n",
        "print(\"총 금액: %d원\" %total)"
      ],
      "metadata": {
        "colab": {
          "base_uri": "https://localhost:8080/"
        },
        "id": "ZQUcroLQDlYE",
        "outputId": "ff0ca111-2d15-4520-9f3f-72ccf746b62f"
      },
      "execution_count": 3,
      "outputs": [
        {
          "output_type": "stream",
          "name": "stdout",
          "text": [
            "1.apple(1500원)\n",
            "2.banana(1300원)\n",
            "3.melon(2000원)\n",
            "apple의 개수: 3\n",
            "banana의 개수: 2\n",
            "melon의 개수: 1\n",
            "총 금액: 9100원\n"
          ]
        }
      ]
    },
    {
      "cell_type": "code",
      "source": [
        "set1={1,2,3,4}\n",
        "set2={3,4,5,6}\n",
        "print(set1&set2)\n",
        "print(set1|set2)\n",
        "print(set1-set2)\n",
        "print(set1^set2)"
      ],
      "metadata": {
        "colab": {
          "base_uri": "https://localhost:8080/"
        },
        "id": "yuHOOspZE1d0",
        "outputId": "f9890ef5-50d4-4895-f825-9c86f42bb105"
      },
      "execution_count": 4,
      "outputs": [
        {
          "output_type": "stream",
          "name": "stdout",
          "text": [
            "{3, 4}\n",
            "{1, 2, 3, 4, 5, 6}\n",
            "{1, 2}\n",
            "{1, 2, 5, 6}\n"
          ]
        }
      ]
    },
    {
      "cell_type": "code",
      "source": [
        "numbers=set()\n",
        "numbers.add(1)\n",
        "numbers.add(2)\n",
        "print(numbers)\n",
        "\n",
        "numbers.update([3,4])\n",
        "numbers.update({\"one\":1})\n",
        "print(numbers)\n",
        "\n",
        "numbers.remove(3)\n",
        "numbers.pop()\n",
        "\n",
        "print(numbers)"
      ],
      "metadata": {
        "colab": {
          "base_uri": "https://localhost:8080/"
        },
        "id": "SJVDhBo-FKON",
        "outputId": "ce30aceb-117f-449a-a6a8-b6cbaa6b2aaf"
      },
      "execution_count": 6,
      "outputs": [
        {
          "output_type": "stream",
          "name": "stdout",
          "text": [
            "{1, 2}\n",
            "{1, 2, 3, 4, 'one'}\n",
            "{2, 4, 'one'}\n"
          ]
        }
      ]
    }
  ]
}