{
  "nbformat": 4,
  "nbformat_minor": 0,
  "metadata": {
    "colab": {
      "name": "HyewonJang",
      "provenance": [],
      "authorship_tag": "ABX9TyPpZya41ibNaaDLG2uCBaMx",
      "include_colab_link": true
    },
    "kernelspec": {
      "name": "python3",
      "display_name": "Python 3"
    },
    "language_info": {
      "name": "python"
    }
  },
  "cells": [
    {
      "cell_type": "markdown",
      "metadata": {
        "id": "view-in-github",
        "colab_type": "text"
      },
      "source": [
        "<a href=\"https://colab.research.google.com/github/gnbhub/gnb_2022_1_Python_study/blob/master/week6/HyewonJang.ipynb\" target=\"_parent\"><img src=\"https://colab.research.google.com/assets/colab-badge.svg\" alt=\"Open In Colab\"/></a>"
      ]
    },
    {
      "cell_type": "code",
      "execution_count": 1,
      "metadata": {
        "colab": {
          "base_uri": "https://localhost:8080/"
        },
        "id": "gfIufDS48tEy",
        "outputId": "ff001ec4-9260-4247-975f-f09cfab65a7c"
      },
      "outputs": [
        {
          "output_type": "stream",
          "name": "stdout",
          "text": [
            "과일 이름 : 사과\n",
            "가격 입력 : 1500\n",
            "과일 이름 : 바나나\n",
            "가격 입력 : 1300\n",
            "과일 이름 : 레몬\n",
            "가격 입력 : 2000\n",
            "{'사과': 1500, '바나나': 1300, '레몬': 2000}\n"
          ]
        }
      ],
      "source": [
        "fruit = {}\n",
        "\n",
        "for count in range(3):\n",
        "  name = input(\"과일 이름 : \")\n",
        "  price = int(input(\"가격 입력 : \"))\n",
        "  fruit[name] = price\n",
        "\n",
        "print(fruit)"
      ]
    },
    {
      "cell_type": "code",
      "source": [
        "fruit = {\"apple\":1500, \"banana\":1300, \"melon\":2000}\n",
        "count = 0\n",
        "\n",
        "for key, item in fruit.items():\n",
        "  count+=1\n",
        "  print(\"%d.%s(%d원)\" %(count, key, item))\n",
        "\n",
        "total = 0\n",
        "for key in fruit.keys():\n",
        "  print(\"%s의 개수 : \" %key, end=\" \")\n",
        "  number = int(input())\n",
        "  total = total + (fruit[key]*number)\n",
        "\n",
        "print(\"총 금액 : %d원\" %total)"
      ],
      "metadata": {
        "colab": {
          "base_uri": "https://localhost:8080/"
        },
        "id": "3rCB9sQZ9JPi",
        "outputId": "dd809f5d-eab9-4c8c-8aec-057cd2efc263"
      },
      "execution_count": 2,
      "outputs": [
        {
          "output_type": "stream",
          "name": "stdout",
          "text": [
            "1.apple(1500원)\n",
            "2.banana(1300원)\n",
            "3.melon(2000원)\n",
            "apple의 개수 :  3\n",
            "banana의 개수 :  2\n",
            "melon의 개수 :  1\n",
            "총 금액 : 9100원\n"
          ]
        }
      ]
    },
    {
      "cell_type": "code",
      "source": [
        "set1 = {1,2,3,4}\n",
        "set2 = {3,4,5,6}\n",
        "print(set1 & set2)\n",
        "print(set1 | set2)\n",
        "print(set1 - set2)\n",
        "print(set1 ^ set2)"
      ],
      "metadata": {
        "colab": {
          "base_uri": "https://localhost:8080/"
        },
        "id": "8wA-ZTze91gb",
        "outputId": "09c3d76a-35b5-406f-90ec-deab5efd515b"
      },
      "execution_count": 3,
      "outputs": [
        {
          "output_type": "stream",
          "name": "stdout",
          "text": [
            "{3, 4}\n",
            "{1, 2, 3, 4, 5, 6}\n",
            "{1, 2}\n",
            "{1, 2, 5, 6}\n"
          ]
        }
      ]
    },
    {
      "cell_type": "code",
      "source": [
        "numbers = set()\n",
        "numbers.add(1)\n",
        "numbers.add(2)\n",
        "print(numbers)\n",
        "numbers.update([3,4])\n",
        "numbers.update({\"one\":1})\n",
        "print(numbers)\n",
        "numbers.remove(3)\n",
        "numbers.pop()\n",
        "print(numbers)"
      ],
      "metadata": {
        "colab": {
          "base_uri": "https://localhost:8080/"
        },
        "id": "PVfH7KQt-QgH",
        "outputId": "ad6f8f97-15bc-4f9e-e8fb-64f697fe86c7"
      },
      "execution_count": 4,
      "outputs": [
        {
          "output_type": "stream",
          "name": "stdout",
          "text": [
            "{1, 2}\n",
            "{1, 2, 3, 4, 'one'}\n",
            "{2, 4, 'one'}\n"
          ]
        }
      ]
    },
    {
      "cell_type": "code",
      "source": [
        ""
      ],
      "metadata": {
        "id": "N4Ex0R6q-qzl"
      },
      "execution_count": null,
      "outputs": []
    }
  ]
}