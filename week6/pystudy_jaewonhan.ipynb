{
  "nbformat": 4,
  "nbformat_minor": 0,
  "metadata": {
    "colab": {
      "name": "pystudy_jaewonhan.ipynb",
      "provenance": [],
      "collapsed_sections": [],
      "authorship_tag": "ABX9TyMRpAvWAHhq4l4yXHme3ydg",
      "include_colab_link": true
    },
    "kernelspec": {
      "name": "python3",
      "display_name": "Python 3"
    },
    "language_info": {
      "name": "python"
    }
  },
  "cells": [
    {
      "cell_type": "markdown",
      "metadata": {
        "id": "view-in-github",
        "colab_type": "text"
      },
      "source": [
        "<a href=\"https://colab.research.google.com/github/gnbhub/gnb_2022_1_Python_study/blob/master/week6/pystudy_jaewonhan.ipynb\" target=\"_parent\"><img src=\"https://colab.research.google.com/assets/colab-badge.svg\" alt=\"Open In Colab\"/></a>"
      ]
    },
    {
      "cell_type": "code",
      "execution_count": 3,
      "metadata": {
        "colab": {
          "base_uri": "https://localhost:8080/"
        },
        "id": "AEmKPmqGxgOY",
        "outputId": "67ee1af4-9140-43ab-96d0-5853cf3eda06"
      },
      "outputs": [
        {
          "output_type": "stream",
          "name": "stdout",
          "text": [
            "과일 이름 : 사과\n",
            "가격 입력 : 1500\n",
            "과일 이름 : 바나나\n",
            "가격 입력 : 1300\n",
            "과일 이름 : 레몬\n",
            "가격 입력 : 2000\n",
            "{'사과': 1500, '바나나': 1300, '레몬': 2000}\n"
          ]
        }
      ],
      "source": [
        "#10-5\n",
        "fruit = {}\n",
        "\n",
        "for count in range(3):\n",
        "  name = input(\"과일 이름 : \")\n",
        "  price = int(input(\"가격 입력 : \"))\n",
        "  fruit[name] = price\n",
        "\n",
        "print(fruit)"
      ]
    },
    {
      "cell_type": "code",
      "source": [
        "#10-15\n",
        "fruit = {\"apple\":1500, \"banana\":1300, \"melon\":2000}\n",
        "count = 0\n",
        "\n",
        "for key, item in fruit.items():\n",
        "  count += 1\n",
        "  print(\"%d.%s(%d원)\" %(count, key, item))\n",
        "\n",
        "total = 0\n",
        "for key in fruit.keys():\n",
        "  print(\"%s의 개수 : \" %key, end=\"\")\n",
        "  number = int(input())\n",
        "  total = total + (fruit[key] * number)\n",
        "\n",
        "print(\"총금액 ; %d원\" %total)\n"
      ],
      "metadata": {
        "colab": {
          "base_uri": "https://localhost:8080/"
        },
        "id": "TXCKimbYzyIn",
        "outputId": "a94b96d4-d122-4e08-d706-420d4a80e970"
      },
      "execution_count": 8,
      "outputs": [
        {
          "output_type": "stream",
          "name": "stdout",
          "text": [
            "1.apple(1500원)\n",
            "2.banana(1300원)\n",
            "3.melon(2000원)\n",
            "apple의 개수 : 3\n",
            "banana의 개수 : 2\n",
            "melon의 개수 : 1\n",
            "총금액 ; 9100원\n"
          ]
        }
      ]
    },
    {
      "cell_type": "code",
      "source": [
        "#10-19\n",
        "set1 = {1,2,3,4}\n",
        "set2 = {3,4,5,6}\n",
        "print(set1 & set2)\n",
        "print(set1 | set2)\n",
        "print(set1 - set1)\n",
        "print(set1 ^ set2)"
      ],
      "metadata": {
        "colab": {
          "base_uri": "https://localhost:8080/"
        },
        "id": "S_uLdz2xz3zq",
        "outputId": "3f1e4c81-8013-45d3-8819-f9996d4adf09"
      },
      "execution_count": 10,
      "outputs": [
        {
          "output_type": "stream",
          "name": "stdout",
          "text": [
            "{3, 4}\n",
            "{1, 2, 3, 4, 5, 6}\n",
            "set()\n",
            "{1, 2, 5, 6}\n"
          ]
        }
      ]
    },
    {
      "cell_type": "code",
      "source": [
        "#10-20\n",
        "numbers = set()\n",
        "numbers.add(1)\n",
        "numbers.add(2)\n",
        "print(numbers)\n",
        "\n",
        "numbers.update([3,4])\n",
        "numbers.update({\"one\",1})\n",
        "print(numbers)\n",
        "\n",
        "numbers.remove(3)\n",
        "numbers.pop()\n",
        "\n",
        "print(numbers)"
      ],
      "metadata": {
        "colab": {
          "base_uri": "https://localhost:8080/"
        },
        "id": "Dp4o8M8SC07M",
        "outputId": "7c1c9f54-00a4-49c9-f5d1-26a12825b421"
      },
      "execution_count": 11,
      "outputs": [
        {
          "output_type": "stream",
          "name": "stdout",
          "text": [
            "{1, 2}\n",
            "{1, 2, 3, 4, 'one'}\n",
            "{2, 4, 'one'}\n"
          ]
        }
      ]
    },
    {
      "cell_type": "code",
      "source": [
        ""
      ],
      "metadata": {
        "id": "DZnEGx_uDGp5"
      },
      "execution_count": null,
      "outputs": []
    }
  ]
}