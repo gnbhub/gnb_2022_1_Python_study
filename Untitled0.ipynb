{
  "nbformat": 4,
  "nbformat_minor": 0,
  "metadata": {
    "colab": {
      "name": "Untitled0.ipynb",
      "provenance": [],
      "authorship_tag": "ABX9TyObfE0HVL8N5Nk+Q1mTiSrN",
      "include_colab_link": true
    },
    "kernelspec": {
      "name": "python3",
      "display_name": "Python 3"
    },
    "language_info": {
      "name": "python"
    }
  },
  "cells": [
    {
      "cell_type": "markdown",
      "metadata": {
        "id": "view-in-github",
        "colab_type": "text"
      },
      "source": [
        "<a href=\"https://colab.research.google.com/github/gnbhub/gnb_2022_1_Python_study/blob/master/Untitled0.ipynb\" target=\"_parent\"><img src=\"https://colab.research.google.com/assets/colab-badge.svg\" alt=\"Open In Colab\"/></a>"
      ]
    },
    {
      "cell_type": "code",
      "execution_count": 2,
      "metadata": {
        "colab": {
          "base_uri": "https://localhost:8080/"
        },
        "id": "L7LFFk5TXJ5z",
        "outputId": "939fdc2e-3aba-4536-a3ef-b6bf434cf25a"
      },
      "outputs": [
        {
          "output_type": "stream",
          "name": "stdout",
          "text": [
            "가로 길이 : 10\n",
            "세로 길이 : 5\n",
            "직사각형의 넓이 : 50\n"
          ]
        }
      ],
      "source": [
        "width = input(\"가로 길이 : \")\n",
        "height = input(\"세로 길이 : \")\n",
        "area = int(width) * int(height)\n",
        "print(\"직사각형의 넓이 : \" + str(area))"
      ]
    },
    {
      "cell_type": "code",
      "source": [
        "fivehundred = int(input(\"500원의 개수 : \"))\n",
        "hundred = int(input(\"100원의 개수 : \"))\n",
        "fifty = int(input(\"50원의 개수 : \"))\n",
        "money = 500 * fivehundred + 100 * hundred + 50 * fifty\n",
        "print(\"잔돈 합:\" + str(money) + \"원\")"
      ],
      "metadata": {
        "colab": {
          "base_uri": "https://localhost:8080/"
        },
        "id": "o-72b8YtaYjn",
        "outputId": "359e941e-0804-4304-c6f4-9efb20c48fcd"
      },
      "execution_count": 3,
      "outputs": [
        {
          "output_type": "stream",
          "name": "stdout",
          "text": [
            "500원의 개수 : 3\n",
            "100원의 개수 : 6\n",
            "50원의 개수 : 2\n",
            "잔돈 합:2200원\n"
          ]
        }
      ]
    },
    {
      "cell_type": "code",
      "source": [
        "number = int(input(\"10진 정수를 입력 : \"))\n",
        "print(\" 2진수 : \" + bin(number))\n",
        "print(\" 8진수 : \" + oct(number))\n",
        "print(\"16진수 : \" + hex(number))"
      ],
      "metadata": {
        "colab": {
          "base_uri": "https://localhost:8080/"
        },
        "id": "DHdMGl7RbB4X",
        "outputId": "526c7b67-d75b-45e1-9cb4-750566826715"
      },
      "execution_count": 4,
      "outputs": [
        {
          "output_type": "stream",
          "name": "stdout",
          "text": [
            "10진 정수를 입력 : 342\n",
            " 2진수 : 0b101010110\n",
            " 8진수 : 0o526\n",
            "16진수 : 0x156\n"
          ]
        }
      ]
    },
    {
      "cell_type": "code",
      "source": [
        ""
      ],
      "metadata": {
        "id": "J61Y09vibxOQ"
      },
      "execution_count": null,
      "outputs": []
    }
  ]
}