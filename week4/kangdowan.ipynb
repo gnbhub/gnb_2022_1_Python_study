{
  "nbformat": 4,
  "nbformat_minor": 0,
  "metadata": {
    "colab": {
      "name": "Untitled11.ipynb",
      "provenance": [],
      "authorship_tag": "ABX9TyN1MPP8k9fKPJ8Pt25tyhFQ",
      "include_colab_link": true
    },
    "kernelspec": {
      "name": "python3",
      "display_name": "Python 3"
    },
    "language_info": {
      "name": "python"
    }
  },
  "cells": [
    {
      "cell_type": "markdown",
      "metadata": {
        "id": "view-in-github",
        "colab_type": "text"
      },
      "source": [
        "<a href=\"https://colab.research.google.com/github/gnbhub/gnb_2022_1_Python_study/blob/master/week4/kangdowan.ipynb\" target=\"_parent\"><img src=\"https://colab.research.google.com/assets/colab-badge.svg\" alt=\"Open In Colab\"/></a>"
      ]
    },
    {
      "cell_type": "code",
      "execution_count": 1,
      "metadata": {
        "colab": {
          "base_uri": "https://localhost:8080/"
        },
        "id": "_7_G1EpJKFIb",
        "outputId": "aa937bb1-0582-40fa-ad71-d220e3f17d9e"
      },
      "outputs": [
        {
          "output_type": "stream",
          "name": "stdout",
          "text": [
            "문자열을 입력 : hello<world>1234!!korea@\n",
            "특수문자를 제거한 후 : helloworld1234korea\n"
          ]
        }
      ],
      "source": [
        "message = input(\"문자열을 입력 : \")\n",
        "special = '''~!@#$%^&*-+=|?/\\()<>\"':;'''\n",
        "new_message = \"\"\n",
        "\n",
        "index_m = 0\n",
        "while index_m < len(message):\n",
        "  index_s = 0\n",
        "  while index_s < len(special):\n",
        "    if message[index_m]==special[index_s]:\n",
        "      break\n",
        "    index_s +=1\n",
        "  else:\n",
        "    new_message +=message[index_m]\n",
        "  index_m += 1\n",
        "print(\"특수문자를 제거한 후 : %s\" %new_message)"
      ]
    },
    {
      "cell_type": "code",
      "source": [
        "width = int(input(\"다이아몬드의 폭을 입력 : \"))\n",
        "star = \"*\"\n",
        "loop = width - (width//2)\n",
        "\n",
        "if width % 2 == 1:\n",
        "  for count in range(loop):\n",
        "    print(star.center(width))\n",
        "    star += \"**\"\n",
        "\n",
        "  for count in range(loop-1, 0, -1):\n",
        "    star = \"*\" * (count * 2 - 1)\n",
        "    print(star.center(width))\n",
        "else:\n",
        "  print(\"홀수를 입력하세요\")"
      ],
      "metadata": {
        "colab": {
          "base_uri": "https://localhost:8080/"
        },
        "id": "EmLmyRumLS6d",
        "outputId": "394212f3-dc8b-4ad6-d176-83e889949a38"
      },
      "execution_count": 2,
      "outputs": [
        {
          "output_type": "stream",
          "name": "stdout",
          "text": [
            "다이아몬드의 폭을 입력 : 11\n",
            "     *     \n",
            "    ***    \n",
            "   *****   \n",
            "  *******  \n",
            " ********* \n",
            "***********\n",
            " ********* \n",
            "  *******  \n",
            "   *****   \n",
            "    ***    \n",
            "     *     \n"
          ]
        }
      ]
    },
    {
      "cell_type": "code",
      "source": [
        "name = input(\"이름 입력 : \")\n",
        "name.strip()\n",
        "name = name.replace(\" \", \"\")\n",
        "\n",
        "passwd = input(\"비밀 번호를 입력 : \")\n",
        "for count in range(0, len(passwd)-1):\n",
        "  if passwd[count] == passwd[count+1]:\n",
        "    print(\"연속된 문자가 존재합니다\")\n",
        "    break;\n",
        "else:\n",
        "  if passwd.isalpha() or passwd.isdigit():\n",
        "    print(\"문자와 숫자를 섞어야 합니다\")\n",
        "  else:\n",
        "    print(\"정상처리 되었습니다\")\n",
        "    print(\"이름 : %s, 비밀번호 : %s\" %(name, passwd))"
      ],
      "metadata": {
        "colab": {
          "base_uri": "https://localhost:8080/"
        },
        "id": "badZyuSyL_VS",
        "outputId": "ec3b1149-4773-469b-97ee-8ef4338e01ea"
      },
      "execution_count": 3,
      "outputs": [
        {
          "output_type": "stream",
          "name": "stdout",
          "text": [
            "이름 입력 : 홍길동\n",
            "비밀 번호를 입력 : 1234\n",
            "문자와 숫자를 섞어야 합니다\n"
          ]
        }
      ]
    }
  ]
}