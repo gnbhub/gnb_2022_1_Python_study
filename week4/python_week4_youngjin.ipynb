{
  "nbformat": 4,
  "nbformat_minor": 0,
  "metadata": {
    "colab": {
      "name": "python_week4_youngjin.ipynb",
      "provenance": [],
      "authorship_tag": "ABX9TyOVBHNqTRL53AN5x8/BhBxj",
      "include_colab_link": true
    },
    "kernelspec": {
      "name": "python3",
      "display_name": "Python 3"
    },
    "language_info": {
      "name": "python"
    }
  },
  "cells": [
    {
      "cell_type": "markdown",
      "metadata": {
        "id": "view-in-github",
        "colab_type": "text"
      },
      "source": [
        "<a href=\"https://colab.research.google.com/github/gnbhub/gnb_2022_1_Python_study/blob/master/week4/python_week4_youngjin.ipynb\" target=\"_parent\"><img src=\"https://colab.research.google.com/assets/colab-badge.svg\" alt=\"Open In Colab\"/></a>"
      ]
    },
    {
      "cell_type": "code",
      "source": [
        "#7-10\n",
        "message = input(\"문자열을 입력 : \")\n",
        "special = '''~!@#$%^&*-+=|?/\\()<>\"':;'''\n",
        "new_message = \"\"\n",
        "\n",
        "index_m = 0\n",
        "while index_m < len(message):\n",
        "  index_s = 0\n",
        "  while index_s < len(special):\n",
        "    if message[index_m] == special[index_s]:\n",
        "      break\n",
        "    index_s += 1\n",
        "  else:\n",
        "    new_message += message[index_m]\n",
        "\n",
        "  index_m += 1\n",
        "  \n",
        "print(\"특수문자를 제거한 후 : %s\" %new_message)"
      ],
      "metadata": {
        "colab": {
          "base_uri": "https://localhost:8080/"
        },
        "id": "aN9irtLMWj6K",
        "outputId": "f4434d9f-89a1-45d5-855c-122cadd277f1"
      },
      "execution_count": 8,
      "outputs": [
        {
          "output_type": "stream",
          "name": "stdout",
          "text": [
            "문자열을 입력 : hello!!!\n",
            "특수문자를 제거한 후 : hello\n"
          ]
        }
      ]
    },
    {
      "cell_type": "code",
      "source": [
        "#7-27\n",
        "width = int(input(\"다이아몬드의 폭을 입력 : \"))\n",
        "star = \"*\"\n",
        "loop = width-(width//2)\n",
        "\n",
        "if width % 2 == 1:\n",
        "  for count in range(loop):\n",
        "    print(star.center(width))\n",
        "    star += \"**\"\n",
        "\n",
        "  for count in range(loop-1, 0, -1):\n",
        "    star = \"*\" * (count * 2 - 1)\n",
        "    print(star.center(width))\n",
        "\n",
        "else:\n",
        "  print(\"홀수를 입력하세요\")"
      ],
      "metadata": {
        "colab": {
          "base_uri": "https://localhost:8080/"
        },
        "id": "G88L-FsOyRWx",
        "outputId": "ccda1d28-9ef9-4c16-bc08-c18d0b2e1efb"
      },
      "execution_count": 9,
      "outputs": [
        {
          "output_type": "stream",
          "name": "stdout",
          "text": [
            "다이아몬드의 폭을 입력 : 7\n",
            "   *   \n",
            "  ***  \n",
            " ***** \n",
            "*******\n",
            " ***** \n",
            "  ***  \n",
            "   *   \n"
          ]
        }
      ]
    },
    {
      "cell_type": "code",
      "source": [
        "#7-31\n",
        "name = input(\"이름 입력 : \")\n",
        "name.strip()\n",
        "name = name.replace(\" \", \"\")\n",
        "\n",
        "passwd = input(\"비밀 번호를 입력 : \")\n",
        "for count in range(0, len(passwd)-1):\n",
        "  if passwd[count] == passwd[count+1]:\n",
        "    print(\"연속된 문자가 존재합니다\")\n",
        "    break;\n",
        "\n",
        "else: \n",
        "  if passwd.isalpha() or passwd.isdigit():\n",
        "    print(\"문자와 숫자를 섞어야 합니다\")\n",
        "  else:\n",
        "    print(\"정상처리 되었습니다\")\n",
        "    print(\"이름 : %s, 비밀번호 : %s\" %(name, passwd))"
      ],
      "metadata": {
        "colab": {
          "base_uri": "https://localhost:8080/"
        },
        "id": "aGsYE_pZyRZQ",
        "outputId": "875edaee-efd7-4649-d9c8-0d57a547a780"
      },
      "execution_count": 12,
      "outputs": [
        {
          "output_type": "stream",
          "name": "stdout",
          "text": [
            "이름 입력 : 김영진\n",
            "비밀 번호를 입력 : 1q2w3e4r\n",
            "정상처리 되었습니다\n",
            "이름 : 김영진, 비밀번호 : 1q2w3e4r\n"
          ]
        }
      ]
    }
  ]
}