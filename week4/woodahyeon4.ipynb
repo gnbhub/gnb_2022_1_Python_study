{
  "nbformat": 4,
  "nbformat_minor": 0,
  "metadata": {
    "colab": {
      "name": "woodahyeon4.ipynb",
      "provenance": [],
      "authorship_tag": "ABX9TyM9sFXfCmcxLiciBJnX6vJ8",
      "include_colab_link": true
    },
    "kernelspec": {
      "name": "python3",
      "display_name": "Python 3"
    },
    "language_info": {
      "name": "python"
    }
  },
  "cells": [
    {
      "cell_type": "markdown",
      "metadata": {
        "id": "view-in-github",
        "colab_type": "text"
      },
      "source": [
        "<a href=\"https://colab.research.google.com/github/gnbhub/gnb_2022_1_Python_study/blob/master/week4/woodahyeon4.ipynb\" target=\"_parent\"><img src=\"https://colab.research.google.com/assets/colab-badge.svg\" alt=\"Open In Colab\"/></a>"
      ]
    },
    {
      "cell_type": "code",
      "source": [
        "message = input('문자열을 입력 : ')\n",
        "special = '''~!@#$%^&*-=+|?/\\()><\"':;'''\n",
        "new_msg = ''\n",
        "index_m = 0\n",
        "while index_m < len(message):\n",
        "  index_s = 0\n",
        "  while index_s < len(special):\n",
        "    if message[index_m] == special[index_s]:\n",
        "      break\n",
        "    index_s += 1\n",
        "  else:\n",
        "    new_msg += message[index_m]\n",
        "  index_m += 1\n",
        "print('특수문자를 제거한 후 : %s' %new_msg)"
      ],
      "metadata": {
        "colab": {
          "base_uri": "https://localhost:8080/"
        },
        "id": "NEVAxC-MuJX0",
        "outputId": "5ba6861a-1da8-43d1-c19e-ae75e92dd041"
      },
      "execution_count": null,
      "outputs": [
        {
          "output_type": "stream",
          "name": "stdout",
          "text": [
            "문자열을 입력 : he'l\"lo wo^^rld()\n",
            "특수문자를 제거한 후 : hello world\n"
          ]
        }
      ]
    },
    {
      "cell_type": "code",
      "source": [
        "width = int(input('다이아몬드의 폭을 입력 : '))\n",
        "star = '*'\n",
        "loop = width-(width//2)\n",
        "if width % 2 ==1:\n",
        "  for cnt in range(loop):\n",
        "    print(star.center(width))\n",
        "    star += '**'\n",
        "  for cnt in range(loop-1, 0, -1):\n",
        "    star = '*' * (cnt*2-1)\n",
        "    print(star.center(width))\n",
        "else:\n",
        "  print('홀수를 입력하세요')"
      ],
      "metadata": {
        "colab": {
          "base_uri": "https://localhost:8080/"
        },
        "id": "7oYmIbayuKhD",
        "outputId": "add10cf9-dda5-46c5-bd0a-507f8b98b94e"
      },
      "execution_count": null,
      "outputs": [
        {
          "output_type": "stream",
          "name": "stdout",
          "text": [
            "다이아몬드의 폭을 입력 : 7\n",
            "   *   \n",
            "  ***  \n",
            " ***** \n",
            "*******\n",
            " ***** \n",
            "  ***  \n",
            "   *   \n"
          ]
        }
      ]
    },
    {
      "cell_type": "code",
      "source": [
        "name = input('이름 입력 : ')\n",
        "name.strip()\n",
        "name = name.replace(' ', '')\n",
        "psd = input('비밀번호를 입력 : ')\n",
        "for cnt in range(0, len(psd)-1):\n",
        "  if psd[cnt] == psd[cnt+1]:\n",
        "    print('연속된 문자가 존재합니다')\n",
        "    break\n",
        "else:\n",
        "  if psd.isalpha() or psd.isdigit():\n",
        "    print('문자와 숫자를 섞어야 합니다')\n",
        "  else:\n",
        "      print('정상 처리 되었습니다')\n",
        "      print('이름 : %s, 비밀번호 : %s' %(name, psd))"
      ],
      "metadata": {
        "id": "gpPW2ehzuK-7",
        "colab": {
          "base_uri": "https://localhost:8080/"
        },
        "outputId": "e6484ee8-5b52-42fd-f18b-243e1b3b3bd7"
      },
      "execution_count": 10,
      "outputs": [
        {
          "output_type": "stream",
          "name": "stdout",
          "text": [
            "이름 입력 : 우 다현\n",
            "비밀번호를 입력 : pasword\n",
            "문자와 숫자를 섞어야 합니다\n"
          ]
        }
      ]
    }
  ]
}