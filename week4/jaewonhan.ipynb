{
  "nbformat": 4,
  "nbformat_minor": 0,
  "metadata": {
    "colab": {
      "name": "Untitled6.ipynb",
      "provenance": [],
      "authorship_tag": "ABX9TyMJWfzKem7w1r/3EpCJvxDx",
      "include_colab_link": true
    },
    "kernelspec": {
      "name": "python3",
      "display_name": "Python 3"
    },
    "language_info": {
      "name": "python"
    }
  },
  "cells": [
    {
      "cell_type": "markdown",
      "metadata": {
        "id": "view-in-github",
        "colab_type": "text"
      },
      "source": [
        "<a href=\"https://colab.research.google.com/github/gnbhub/gnb_2022_1_Python_study/blob/master/week4/jaewonhan.ipynb\" target=\"_parent\"><img src=\"https://colab.research.google.com/assets/colab-badge.svg\" alt=\"Open In Colab\"/></a>"
      ]
    },
    {
      "cell_type": "code",
      "execution_count": 3,
      "metadata": {
        "colab": {
          "base_uri": "https://localhost:8080/"
        },
        "id": "gj9Fa4PUkxL_",
        "outputId": "1e797f60-2ae9-4ae3-9709-dc55b368e271"
      },
      "outputs": [
        {
          "output_type": "stream",
          "name": "stdout",
          "text": [
            "문자열을 입력 : hello<world>1234!!korea@\n",
            "특수문자를 제거한 후 : helloworld1234korea\n"
          ]
        }
      ],
      "source": [
        "#7-10\n",
        "message = input(\"문자열을 입력 : \")\n",
        "special = '''~!@#$%^&*-+=|?/\\()<>\"':;'''\n",
        "new_message = \"\"\n",
        "\n",
        "index_m = 0\n",
        "while index_m < len(message):\n",
        "  index_s = 0\n",
        "  while index_s < len(special):\n",
        "    if message[index_m] == special[index_s]:\n",
        "      break\n",
        "    index_s += 1\n",
        "  else:\n",
        "      new_message += message[index_m]\n",
        "    \n",
        "  index_m += 1\n",
        "print(\"특수문자를 제거한 후 : %s\" %new_message)"
      ]
    },
    {
      "cell_type": "code",
      "source": [
        ""
      ],
      "metadata": {
        "id": "mBM3DBGswqNi"
      },
      "execution_count": null,
      "outputs": []
    },
    {
      "cell_type": "code",
      "source": [
        "#7-27\n",
        "width = int(input(\"다이아몬드의 폭을 입력 : \"))\n",
        "star = \"*\"\n",
        "loop = width-(width//2)\n",
        "\n",
        "if width % 2 == 1:\n",
        "  for count in range(loop):\n",
        "    print(star.center(width))\n",
        "    star += \"**\"\n",
        "\n",
        "  for count in range(loop-1,0,-1):\n",
        "    star = \"*\" * (count * 2 - 1)\n",
        "    print(star.center(width))\n",
        "else:\n",
        "  print(\"홀수를 입력하세요\")"
      ],
      "metadata": {
        "colab": {
          "base_uri": "https://localhost:8080/"
        },
        "id": "LmV3A5mUutjy",
        "outputId": "7fde3f72-4f90-483b-d775-be551339a93d"
      },
      "execution_count": 4,
      "outputs": [
        {
          "output_type": "stream",
          "name": "stdout",
          "text": [
            "다이아몬드의 폭을 입력 : 11\n",
            "     *     \n",
            "    ***    \n",
            "   *****   \n",
            "  *******  \n",
            " ********* \n",
            "***********\n",
            " ********* \n",
            "  *******  \n",
            "   *****   \n",
            "    ***    \n",
            "     *     \n"
          ]
        }
      ]
    },
    {
      "cell_type": "code",
      "source": [
        "#7-31\n",
        "name = input(\"이름 입력 : \")\n",
        "name.strip()\n",
        "name = name.replace(\" \", \"\")\n",
        "\n",
        "passwd = input(\"비밀 번호를 입력 : \")\n",
        "for count in range(0, len(passwd) - 1):\n",
        "  if passwd[count] == passwd[count+1]:\n",
        "    print(\"연속된 문자가 존재합니다.\")\n",
        "    break;\n",
        "else:\n",
        "  if passwd.isalpha() or passwd.isdigit():\n",
        "    print(\"문자와 숫자를 섞어야 합니다.\")\n",
        "  else:\n",
        "    print(\"정상처리 되었습니다.\")\n",
        "    print(\"이름 : %s, 비밀번호 : %s\" %(name, passwd))"
      ],
      "metadata": {
        "colab": {
          "base_uri": "https://localhost:8080/"
        },
        "id": "bQPeRylvvbb6",
        "outputId": "e140b3f2-224c-45cb-ac7d-55b9c4f7dd07"
      },
      "execution_count": 7,
      "outputs": [
        {
          "output_type": "stream",
          "name": "stdout",
          "text": [
            "이름 입력 : 홍길동\n",
            "비밀 번호를 입력 : hong1234\n",
            "정상처리 되었습니다.\n",
            "이름 : 홍길동, 비밀번호 : hong1234\n"
          ]
        }
      ]
    },
    {
      "cell_type": "code",
      "source": [
        ""
      ],
      "metadata": {
        "id": "eugtLa5cv63N"
      },
      "execution_count": null,
      "outputs": []
    }
  ]
}