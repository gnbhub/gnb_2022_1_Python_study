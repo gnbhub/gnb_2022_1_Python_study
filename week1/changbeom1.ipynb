{
  "nbformat": 4,
  "nbformat_minor": 0,
  "metadata": {
    "colab": {
      "name": "Untitled5.ipynb",
      "provenance": [],
      "authorship_tag": "ABX9TyO9EMIoKBWKFq860zs8KdOl",
      "include_colab_link": true
    },
    "kernelspec": {
      "name": "python3",
      "display_name": "Python 3"
    },
    "language_info": {
      "name": "python"
    }
  },
  "cells": [
    {
      "cell_type": "markdown",
      "metadata": {
        "id": "view-in-github",
        "colab_type": "text"
      },
      "source": [
        "<a href=\"https://colab.research.google.com/github/gnbhub/gnb_2022_1_Python_study/blob/master/week1/changbeom1.ipynb\" target=\"_parent\"><img src=\"https://colab.research.google.com/assets/colab-badge.svg\" alt=\"Open In Colab\"/></a>"
      ]
    },
    {
      "cell_type": "code",
      "execution_count": 1,
      "metadata": {
        "colab": {
          "base_uri": "https://localhost:8080/"
        },
        "id": "_w7kaZ8dY6IM",
        "outputId": "92cd742d-27c7-4d2a-e60f-397324b0efa9"
      },
      "outputs": [
        {
          "output_type": "stream",
          "name": "stdout",
          "text": [
            "hello\n"
          ]
        }
      ],
      "source": [
        "print(\"hello\")"
      ]
    },
    {
      "cell_type": "code",
      "source": [
        "width = input(\"가로 길이: \" )\n",
        "height = input(\"세로 길이: \")\n",
        "area = int(width)* int(height)\n",
        "print(\"직사각형의 넓이: \" +str(area))"
      ],
      "metadata": {
        "colab": {
          "base_uri": "https://localhost:8080/"
        },
        "id": "Nh7icUxDZALs",
        "outputId": "c206c10d-076e-4dbe-ad5c-d316152ed8c6"
      },
      "execution_count": 2,
      "outputs": [
        {
          "output_type": "stream",
          "name": "stdout",
          "text": [
            "가로 길이: 10\n",
            "세로 길이: 5\n",
            "직사각형의 넓이: 50\n"
          ]
        }
      ]
    },
    {
      "cell_type": "code",
      "source": [
        "fivehundred = int(input(\"500원의 개수:\"))\n",
        "hundred = int(input(\"100원 개수:\"))\n",
        "fifty = int(input(\"50원 개수:\"))\n",
        "money = 500*fivehundred + 100*hundred + 50*fifty\n",
        "print(\"잔돈 합:\" + str(money)+ \"원\")"
      ],
      "metadata": {
        "colab": {
          "base_uri": "https://localhost:8080/"
        },
        "id": "Ld242O3pZ_ti",
        "outputId": "58cad01f-1e96-4c1e-a0d0-f72934d42045"
      },
      "execution_count": 3,
      "outputs": [
        {
          "output_type": "stream",
          "name": "stdout",
          "text": [
            "500원의 개수:3\n",
            "100원 개수:1\n",
            "50원 개수:4\n",
            "잔돈 합:1800원\n"
          ]
        }
      ]
    },
    {
      "cell_type": "code",
      "source": [
        "number = input(\"10진수 정수를 입력: \")\n",
        "number = int(number)\n",
        "print(\"2진수: \"+ bin(number))\n",
        "print(\"8진수: \"+ oct(number))\n",
        "print(\"16진수: \"+ hex(number))"
      ],
      "metadata": {
        "colab": {
          "base_uri": "https://localhost:8080/"
        },
        "id": "auXM-1Q_a3Ox",
        "outputId": "f614b125-b8aa-4ac2-8597-9ff4fb13e672"
      },
      "execution_count": 4,
      "outputs": [
        {
          "output_type": "stream",
          "name": "stdout",
          "text": [
            "10진수 정수를 입력: 1641\n",
            "2진수: 0b11001101001\n",
            "8진수: 0o3151\n",
            "16진수: 0x669\n"
          ]
        }
      ]
    },
    {
      "cell_type": "code",
      "source": [
        ""
      ],
      "metadata": {
        "id": "3JuEWMELbnDc"
      },
      "execution_count": null,
      "outputs": []
    }
  ]
}