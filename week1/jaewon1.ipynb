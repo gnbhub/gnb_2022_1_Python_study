{
  "nbformat": 4,
  "nbformat_minor": 0,
  "metadata": {
    "colab": {
      "name": "Untitled0.ipynb",
      "provenance": [],
      "authorship_tag": "ABX9TyM7dU0u+ipZFuQwqf7gfioB",
      "include_colab_link": true
    },
    "kernelspec": {
      "name": "python3",
      "display_name": "Python 3"
    },
    "language_info": {
      "name": "python"
    }
  },
  "cells": [
    {
      "cell_type": "markdown",
      "metadata": {
        "id": "view-in-github",
        "colab_type": "text"
      },
      "source": [
        "<a href=\"https://colab.research.google.com/github/gnbhub/gnb_2022_1_Python_study/blob/master/week1/jaewon1.ipynb\" target=\"_parent\"><img src=\"https://colab.research.google.com/assets/colab-badge.svg\" alt=\"Open In Colab\"/></a>"
      ]
    },
    {
      "cell_type": "code",
      "execution_count": 10,
      "metadata": {
        "colab": {
          "base_uri": "https://localhost:8080/"
        },
        "id": "SXDnDas1XHaa",
        "outputId": "7917ae7c-dae3-4345-9787-b29e28b49b9b"
      },
      "outputs": [
        {
          "output_type": "stream",
          "name": "stdout",
          "text": [
            "가로 길이 : 2\n",
            "세로 길이 : 3\n",
            "직사각형의 넓이 : 6\n"
          ]
        }
      ],
      "source": [
        "width = input(\"가로 길이 : \")\n",
        "height = input(\"세로 길이 : \")\n",
        "area = int(width) * int(height)\n",
        "print(\"직사각형의 넓이 : {}\".format(area))"
      ]
    },
    {
      "cell_type": "code",
      "source": [
        "number = input(\"10진 정수를 입력 : \")\n",
        "number = int(number)\n",
        "print(\" 2진수 : {}\".format(bin(number)))\n",
        "print(\" 8진수 : %x\"%number)\n",
        "print(\" 16진수 : \" + hex(number))"
      ],
      "metadata": {
        "colab": {
          "base_uri": "https://localhost:8080/"
        },
        "id": "eLrUub-4bUvY",
        "outputId": "56d21e73-501d-4a70-ee6c-713c27efe1a0"
      },
      "execution_count": 14,
      "outputs": [
        {
          "output_type": "stream",
          "name": "stdout",
          "text": [
            "10진 정수를 입력 : 1641\n",
            " 2진수 : 0b11001101001\n",
            " 8진수 : 669\n",
            " 16진수 : 0x669\n"
          ]
        }
      ]
    },
    {
      "cell_type": "code",
      "source": [
        "fivehundred = int(input('500원 개수 : '))\n",
        "hundred = int(input('100원 개수 :  '))\n",
        "fifty = int(input('50원 개수 : '))\n",
        "money = 500*fivehundred + 100 * hundred + 50 * fifty\n",
        "print(\"단돈 합 : \"+str(money)+\"원\")"
      ],
      "metadata": {
        "colab": {
          "base_uri": "https://localhost:8080/"
        },
        "id": "1eeTWogzaVDP",
        "outputId": "dea11b95-98f7-43ed-e25c-a4da69258d79"
      },
      "execution_count": 9,
      "outputs": [
        {
          "output_type": "stream",
          "name": "stdout",
          "text": [
            "500원 개수 : 3\n",
            "100원 개수 :  4\n",
            "50원 개수 : 2\n",
            "단돈 합 : 2000원\n"
          ]
        }
      ]
    }
  ]
}