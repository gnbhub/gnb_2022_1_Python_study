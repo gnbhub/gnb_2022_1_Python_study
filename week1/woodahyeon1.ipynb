{
  "nbformat": 4,
  "nbformat_minor": 0,
  "metadata": {
    "colab": {
      "name": "woodahyeon1.ipynb",
      "provenance": [],
      "toc_visible": true,
      "authorship_tag": "ABX9TyMp/AH7oO8fj8ExCINnPzfd",
      "include_colab_link": true
    },
    "kernelspec": {
      "name": "python3",
      "display_name": "Python 3"
    },
    "language_info": {
      "name": "python"
    }
  },
  "cells": [
    {
      "cell_type": "markdown",
      "metadata": {
        "id": "view-in-github",
        "colab_type": "text"
      },
      "source": [
        "<a href=\"https://colab.research.google.com/github/gnbhub/gnb_2022_1_Python_study/blob/master/woodahyeon1.ipynb\" target=\"_parent\"><img src=\"https://colab.research.google.com/assets/colab-badge.svg\" alt=\"Open In Colab\"/></a>"
      ]
    },
    {
      "cell_type": "code",
      "execution_count": 4,
      "metadata": {
        "id": "90Vw8-G9XPk3",
        "colab": {
          "base_uri": "https://localhost:8080/"
        },
        "outputId": "2cb0ff35-49e2-441d-de84-774d5ce984f4"
      },
      "outputs": [
        {
          "output_type": "stream",
          "name": "stdout",
          "text": [
            "hello\n"
          ]
        }
      ],
      "source": [
        "print('hello')"
      ]
    },
    {
      "cell_type": "code",
      "source": [
        "width = input('가로 길이: ')\n",
        "height = input('세로 길이: ')\n",
        "area = int(width)*int(height)\n",
        "print('직사각형의 넓이: '+str(area))"
      ],
      "metadata": {
        "colab": {
          "base_uri": "https://localhost:8080/"
        },
        "id": "UloDHAEuc2bu",
        "outputId": "64851c40-c9ef-4d99-c54e-8d7dc16c6136"
      },
      "execution_count": 5,
      "outputs": [
        {
          "output_type": "stream",
          "name": "stdout",
          "text": [
            "가로 길이: 10\n",
            "세로 길이: 5\n",
            "직사각형의 넓이: 50\n"
          ]
        }
      ]
    },
    {
      "cell_type": "code",
      "source": [
        "fivehundred = int(input('500원의 개수: '))\n",
        "hundred = int(input('100원의 개수: '))\n",
        "fifty = int(input('50원의 개수: '))\n",
        "money = 500*fivehundred+100*hundred+50*fifty\n",
        "print('잔돈 합: '+str(money)+'원')"
      ],
      "metadata": {
        "colab": {
          "base_uri": "https://localhost:8080/"
        },
        "id": "E2Hqz5eQdXVk",
        "outputId": "efd900a0-08e5-4dcb-db1e-f45313aaeb0d"
      },
      "execution_count": 6,
      "outputs": [
        {
          "output_type": "stream",
          "name": "stdout",
          "text": [
            "500원의 개수: 4\n",
            "100원의 개수: 3\n",
            "50원의 개수: 5\n",
            "잔돈 합: 2550원\n"
          ]
        }
      ]
    },
    {
      "cell_type": "code",
      "source": [
        "number = input('10진수 정수를 입력: ')\n",
        "number = int(number)\n",
        "print('2진수: '+bin(number))\n",
        "print('8진수: '+oct(number))\n",
        "print('16진수: '+hex(number))"
      ],
      "metadata": {
        "colab": {
          "base_uri": "https://localhost:8080/"
        },
        "id": "bsT5HJg4d4MD",
        "outputId": "f1de70b0-9ae7-435f-efad-55124df8d476"
      },
      "execution_count": 7,
      "outputs": [
        {
          "output_type": "stream",
          "name": "stdout",
          "text": [
            "10진수 정수를 입력: 16\n",
            "2진수: 0b10000\n",
            "8진수: 0o20\n",
            "16진수: 0x10\n"
          ]
        }
      ]
    }
  ]
}
