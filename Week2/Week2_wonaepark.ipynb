{
  "nbformat": 4,
  "nbformat_minor": 0,
  "metadata": {
    "colab": {
      "name": "Untitled2.ipynb",
      "provenance": [],
      "authorship_tag": "ABX9TyMNJqCCZcaOpLwglsZ+B9FJ",
      "include_colab_link": true
    },
    "kernelspec": {
      "name": "python3",
      "display_name": "Python 3"
    },
    "language_info": {
      "name": "python"
    }
  },
  "cells": [
    {
      "cell_type": "markdown",
      "metadata": {
        "id": "view-in-github",
        "colab_type": "text"
      },
      "source": [
        "<a href=\"https://colab.research.google.com/github/gnbhub/gnb_2022_1_Python_study/blob/master/Week2/Week2_wonaepark.ipynb\" target=\"_parent\"><img src=\"https://colab.research.google.com/assets/colab-badge.svg\" alt=\"Open In Colab\"/></a>"
      ]
    },
    {
      "cell_type": "code",
      "execution_count": 2,
      "metadata": {
        "colab": {
          "base_uri": "https://localhost:8080/"
        },
        "id": "VzMADREcQOxs",
        "outputId": "775688d8-3418-4145-b145-b0daf4e03df2"
      },
      "outputs": [
        {
          "output_type": "stream",
          "name": "stdout",
          "text": [
            "전체 초 단위의 시간을 입력:5234\n",
            "5234초는1시간 27분 14초입니다.\n"
          ]
        }
      ],
      "source": [
        "fullsec=int(input(\"전체 초 단위의 시간을 입력:\"))\n",
        "hour=(fullsec//60)//60\n",
        "minute=(fullsec//60)%60\n",
        "seconds=fullsec%60\n",
        "\n",
        "print(\"%d초는\" %fullsec, end=\"\")\n",
        "print(\"%d시간 %d분 %d초입니다.\" %(hour, minute, seconds))"
      ]
    },
    {
      "cell_type": "code",
      "source": [
        "flag=0b11001100; mask=0b11110000\n",
        "flag&=mask\n",
        "print(bin(flag))"
      ],
      "metadata": {
        "colab": {
          "base_uri": "https://localhost:8080/"
        },
        "id": "EPt6xQqGVDO5",
        "outputId": "b3dc15a4-2d8e-4da2-a0f1-7d9c2fe83fb4"
      },
      "execution_count": 3,
      "outputs": [
        {
          "output_type": "stream",
          "name": "stdout",
          "text": [
            "0b11000000\n"
          ]
        }
      ]
    },
    {
      "cell_type": "code",
      "source": [
        "color=0b1001001110110010\n",
        "red_mask=0b1111100000000000\n",
        "green_mask=0b0000011111100000\n",
        "blue_mask=0b0000000000011111\n",
        "\n",
        "red=(color&red_mask)>>11\n",
        "green=(color&green_mask)>>5\n",
        "blue=color&blue_mask\n",
        "\n",
        "print(\"red=%s\" %bin(red))\n",
        "print(\"green=%s\" %bin(green))\n",
        "print(\"blue=%s\" %bin(blue))"
      ],
      "metadata": {
        "colab": {
          "base_uri": "https://localhost:8080/"
        },
        "id": "m497-tHGWf-3",
        "outputId": "0e37bd67-6a18-4ffd-892d-d540d4ec9524"
      },
      "execution_count": 5,
      "outputs": [
        {
          "output_type": "stream",
          "name": "stdout",
          "text": [
            "red=0b10010\n",
            "green=0b11101\n",
            "blue=0b10010\n"
          ]
        }
      ]
    }
  ]
}