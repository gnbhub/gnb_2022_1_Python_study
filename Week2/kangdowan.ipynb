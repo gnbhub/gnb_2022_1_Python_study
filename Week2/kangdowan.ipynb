{
  "nbformat": 4,
  "nbformat_minor": 0,
  "metadata": {
    "colab": {
      "name": "Untitled5.ipynb",
      "provenance": [],
      "authorship_tag": "ABX9TyMgXRlk9cENcyd/Eh94iJeH",
      "include_colab_link": true
    },
    "kernelspec": {
      "name": "python3",
      "display_name": "Python 3"
    },
    "language_info": {
      "name": "python"
    }
  },
  "cells": [
    {
      "cell_type": "markdown",
      "metadata": {
        "id": "view-in-github",
        "colab_type": "text"
      },
      "source": [
        "<a href=\"https://colab.research.google.com/github/gnbhub/gnb_2022_1_Python_study/blob/master/Week2/kangdowan.ipynb\" target=\"_parent\"><img src=\"https://colab.research.google.com/assets/colab-badge.svg\" alt=\"Open In Colab\"/></a>"
      ]
    },
    {
      "cell_type": "code",
      "execution_count": 1,
      "metadata": {
        "colab": {
          "base_uri": "https://localhost:8080/"
        },
        "id": "KGrFPV49Q_KT",
        "outputId": "ad2389bc-979c-490a-d4d3-351c0f2b6025"
      },
      "outputs": [
        {
          "output_type": "stream",
          "name": "stdout",
          "text": [
            "전체 초 단위의 시간을 입력 :5234\n",
            "5234초는 1시간 27분 14초입니다 \n"
          ]
        }
      ],
      "source": [
        "fullsec = int(input(\"전체 초 단위의 시간을 입력 :\"))\n",
        "\n",
        "hour = (fullsec // 60) // 60\n",
        "minute = (fullsec // 60) %60\n",
        "seconds = fullsec % 60\n",
        "\n",
        "print(\"%d초는\" %fullsec, end =\" \")\n",
        "print(\"%d시간 %d분 %d초입니다 \" %(hour, minute, seconds))\n"
      ]
    },
    {
      "cell_type": "code",
      "source": [
        "flag = 0b11001100; mask = 0b11110000\n",
        "flag &= mask\n",
        "print((bin(flag)))\n",
        "flag = 0b11001100; mask =0b00001111\n",
        "flag |= mask\n",
        "print(bin(flag))"
      ],
      "metadata": {
        "colab": {
          "base_uri": "https://localhost:8080/"
        },
        "id": "rz3iz1_FVCxw",
        "outputId": "611fce73-953b-4c28-ae6f-c1d782757d8a"
      },
      "execution_count": 3,
      "outputs": [
        {
          "output_type": "stream",
          "name": "stdout",
          "text": [
            "0b11000000\n",
            "0b11001111\n"
          ]
        }
      ]
    },
    {
      "cell_type": "code",
      "source": [
        "color = 0b1001001110110010\n",
        "red_mask = 0b1111100000000000\n",
        "green_mask = 0b0000011111100000\n",
        "blue_mask = 0b0000000000011111\n",
        "\n",
        "red = (color & red_mask) >> 11\n",
        "green = (color & green_mask) >> 5\n",
        "blue = color &blue_mask\n",
        "\n",
        "print(\"  red = %s\" %bin(red))\n",
        "print(\"green = %s\" %bin(green))\n",
        "print(\" blue = %s\" %bin(blue))"
      ],
      "metadata": {
        "colab": {
          "base_uri": "https://localhost:8080/"
        },
        "id": "X3ahjl1TWNyZ",
        "outputId": "ffe4901a-7185-4648-edda-bf63b4df0707"
      },
      "execution_count": 5,
      "outputs": [
        {
          "output_type": "stream",
          "name": "stdout",
          "text": [
            "  red = 0b10010\n",
            "green = 0b11101\n",
            " blue = 0b10010\n"
          ]
        }
      ]
    },
    {
      "cell_type": "code",
      "source": [
        "expression = input(\"일반 수식을 그대로 입력 : \")\n",
        "answer = eval(expression)\n",
        "print(\"결과 : %.2f\" %answer)"
      ],
      "metadata": {
        "colab": {
          "base_uri": "https://localhost:8080/"
        },
        "id": "sqdNrnleXeor",
        "outputId": "7d27e943-1409-483f-c708-b97b4987c8c2"
      },
      "execution_count": 6,
      "outputs": [
        {
          "output_type": "stream",
          "name": "stdout",
          "text": [
            "일반 수식을 그대로 입력 : (2+3)*(13/3)\n",
            "결과 : 21.67\n"
          ]
        }
      ]
    },
    {
      "cell_type": "markdown",
      "source": [
        ""
      ],
      "metadata": {
        "id": "5fQbCZRvY-Ig"
      }
    }
  ]
}