{
  "nbformat": 4,
  "nbformat_minor": 0,
  "metadata": {
    "colab": {
      "name": "woodahyeon2.ipynb",
      "provenance": [],
      "authorship_tag": "ABX9TyM6TVHLuTrj4o0TRo3OobDB",
      "include_colab_link": true
    },
    "kernelspec": {
      "name": "python3",
      "display_name": "Python 3"
    },
    "language_info": {
      "name": "python"
    }
  },
  "cells": [
    {
      "cell_type": "markdown",
      "metadata": {
        "id": "view-in-github",
        "colab_type": "text"
      },
      "source": [
        "<a href=\"https://colab.research.google.com/github/gnbhub/gnb_2022_1_Python_study/blob/master/Week2/woodahyeon2.ipynb\" target=\"_parent\"><img src=\"https://colab.research.google.com/assets/colab-badge.svg\" alt=\"Open In Colab\"/></a>"
      ]
    },
    {
      "cell_type": "code",
      "execution_count": 3,
      "metadata": {
        "colab": {
          "base_uri": "https://localhost:8080/"
        },
        "id": "x48sb3epSIsA",
        "outputId": "657eb4e7-4028-4248-9075-4e45e2785f57"
      },
      "outputs": [
        {
          "output_type": "stream",
          "name": "stdout",
          "text": [
            "전체 초 단위의 시간을 입력 : 5234\n",
            "5234초는 1시간 27분 14초 입니다\n"
          ]
        }
      ],
      "source": [
        "fullsec = int(input('전체 초 단위의 시간을 입력 : '))\n",
        "hour = (fullsec // 60) // 60\n",
        "minute = (fullsec // 60) % 60\n",
        "seconds = fullsec % 60\n",
        "print('%d초는'%fullsec, end=' ')\n",
        "print('%d시간 %d분 %d초 입니다'%(hour, minute, seconds))"
      ]
    },
    {
      "cell_type": "code",
      "source": [
        "flag = 0b11001100; mask = 0b111100000\n",
        "flag &= mask\n",
        "print(bin(flag))\n",
        "\n",
        "flag = 0b11001100; mask = 0b000011111\n",
        "flag |= mask\n",
        "print(bin(flag))"
      ],
      "metadata": {
        "colab": {
          "base_uri": "https://localhost:8080/"
        },
        "id": "yGXJ_4auTRUD",
        "outputId": "29c13db3-01a8-48b8-d667-40b5a4a9209a"
      },
      "execution_count": 5,
      "outputs": [
        {
          "output_type": "stream",
          "name": "stdout",
          "text": [
            "0b11000000\n",
            "0b11011111\n"
          ]
        }
      ]
    },
    {
      "cell_type": "code",
      "source": [
        "color = 0b1001001110110010\n",
        "red_mask = 0b1111100000000000\n",
        "green_mask = 0b0000011111100000\n",
        "blue_mask = 0b0000000000011111\n",
        "\n",
        "red = (color&red_mask) >> 11\n",
        "green = (color&green_mask) >> 5\n",
        "blue = color&blue_mask\n",
        "\n",
        "print('  red = %s'%bin(red))\n",
        "print('green = %s'%bin(green))\n",
        "print(' blue = %s'%bin(blue))"
      ],
      "metadata": {
        "colab": {
          "base_uri": "https://localhost:8080/"
        },
        "id": "F3D3YGZkVqGx",
        "outputId": "0bf2dada-ccf1-4c06-a41b-cff606be7494"
      },
      "execution_count": 8,
      "outputs": [
        {
          "output_type": "stream",
          "name": "stdout",
          "text": [
            "  red = 0b10010\n",
            "green = 0b11101\n",
            " blue = 0b10010\n"
          ]
        }
      ]
    },
    {
      "cell_type": "code",
      "source": [
        "expression = input('일반 수식을 그대로 입력 : ')\n",
        "answer = eval(expression)\n",
        "print('결과 : %.2f'%answer)"
      ],
      "metadata": {
        "colab": {
          "base_uri": "https://localhost:8080/"
        },
        "id": "9c9qLUo5XZO5",
        "outputId": "013a59ab-4898-4bbf-db2c-983dcf2265ea"
      },
      "execution_count": 9,
      "outputs": [
        {
          "output_type": "stream",
          "name": "stdout",
          "text": [
            "일반 수식을 그대로 입력 : (2+3)*(13/3)\n",
            "결과 : 21.67\n"
          ]
        }
      ]
    }
  ]
}