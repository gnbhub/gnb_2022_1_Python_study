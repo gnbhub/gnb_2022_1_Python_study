{
  "nbformat": 4,
  "nbformat_minor": 0,
  "metadata": {
    "colab": {
      "name": "jaewonhan2.ipynb",
      "provenance": [],
      "authorship_tag": "ABX9TyPsNxji+HnoMLEwOyW6Bd5g",
      "include_colab_link": true
    },
    "kernelspec": {
      "name": "python3",
      "display_name": "Python 3"
    },
    "language_info": {
      "name": "python"
    }
  },
  "cells": [
    {
      "cell_type": "markdown",
      "metadata": {
        "id": "view-in-github",
        "colab_type": "text"
      },
      "source": [
        "<a href=\"https://colab.research.google.com/github/gnbhub/gnb_2022_1_Python_study/blob/master/Week2/jaewonhan2.ipynb\" target=\"_parent\"><img src=\"https://colab.research.google.com/assets/colab-badge.svg\" alt=\"Open In Colab\"/></a>"
      ]
    },
    {
      "cell_type": "code",
      "execution_count": 4,
      "metadata": {
        "colab": {
          "base_uri": "https://localhost:8080/"
        },
        "id": "OGu51BlqP0BA",
        "outputId": "eff45323-e5c4-4252-e4d1-b0ac127a9051"
      },
      "outputs": [
        {
          "output_type": "stream",
          "name": "stdout",
          "text": [
            "전체 초 단위의 시간을 입력 : 5234\n",
            "5234초는 1시간 27분 14초 입니다\n"
          ]
        }
      ],
      "source": [
        "fullsec = int(input(\"전체 초 단위의 시간을 입력 : \"))\n",
        "\n",
        "hour = (fullsec // 60) // 60\n",
        "minute = (fullsec // 60) % 60\n",
        "seconds = fullsec % 60\n",
        "\n",
        "print(\"%d초는\"%fullsec, end=\" \")\n",
        "print(\"%d시간 %d분 %d초 입니다\"%(hour, minute, seconds))"
      ]
    },
    {
      "cell_type": "code",
      "source": [
        "flag = 0b11001100; mask = 0b11110000\n",
        "flag &= mask\n",
        "print(bin(flag))"
      ],
      "metadata": {
        "colab": {
          "base_uri": "https://localhost:8080/"
        },
        "id": "VHcHkHF5Sxf0",
        "outputId": "f011a0c0-13e9-4ced-a573-32543652e535"
      },
      "execution_count": 5,
      "outputs": [
        {
          "output_type": "stream",
          "name": "stdout",
          "text": [
            "0b11000000\n"
          ]
        }
      ]
    },
    {
      "cell_type": "code",
      "source": [
        "flag = 0b11001100; mask = 0b00001111\n",
        "flag |= mask\n",
        "print(bin(flag))"
      ],
      "metadata": {
        "colab": {
          "base_uri": "https://localhost:8080/"
        },
        "id": "haIe2O68VGcW",
        "outputId": "91d08e28-5399-47eb-c0b5-06765affdaa2"
      },
      "execution_count": 6,
      "outputs": [
        {
          "output_type": "stream",
          "name": "stdout",
          "text": [
            "0b11001111\n"
          ]
        }
      ]
    },
    {
      "cell_type": "code",
      "source": [
        "color = 0b1001001110110010\n",
        "red_mask = 0b1111100000000000\n",
        "green_mask = 0b0000011111100000\n",
        "blue_mask = 0b0000000000011111\n",
        "\n",
        "red = (color & red_mask) >> 11\n",
        "green = (color & green_mask) >> 5\n",
        "blue = color & blue_mask\n",
        "\n",
        "print(\"  red = %s\" %bin(red))\n",
        "print(\"green = %s\" %bin(green))\n",
        "print(\" blue = %s\" %bin(blue))"
      ],
      "metadata": {
        "colab": {
          "base_uri": "https://localhost:8080/"
        },
        "id": "pqMbI4pAVPV6",
        "outputId": "91967f8a-0e3d-4d78-cb82-e445fe2a4d87"
      },
      "execution_count": 8,
      "outputs": [
        {
          "output_type": "stream",
          "name": "stdout",
          "text": [
            "  red = 0b10010\n",
            "green = 0b11101\n",
            " blue = 0b10010\n"
          ]
        }
      ]
    },
    {
      "cell_type": "code",
      "source": [
        "expression = input(\"일반 수식을 그대로 입력 : \")\n",
        "answer = eval(expression)\n",
        "print(\"결과 : %.2f\" %answer)"
      ],
      "metadata": {
        "colab": {
          "base_uri": "https://localhost:8080/"
        },
        "id": "LgEfNf9bWqeU",
        "outputId": "31ad57a4-da11-4f16-84a1-22b573f1eae0"
      },
      "execution_count": 10,
      "outputs": [
        {
          "output_type": "stream",
          "name": "stdout",
          "text": [
            "일반 수식을 그대로 입력 : (2+3)*(13/3)\n",
            "결과 : 21.67\n"
          ]
        }
      ]
    },
    {
      "cell_type": "code",
      "source": [
        ""
      ],
      "metadata": {
        "id": "auXtnwEPYAro"
      },
      "execution_count": null,
      "outputs": []
    }
  ]
}