{
  "nbformat": 4,
  "nbformat_minor": 0,
  "metadata": {
    "colab": {
      "name": "python1_hyewonjang.ipynb",
      "provenance": [],
      "authorship_tag": "ABX9TyP20Ige5U76bsaWDKTgtL8X",
      "include_colab_link": true
    },
    "kernelspec": {
      "name": "python3",
      "display_name": "Python 3"
    },
    "language_info": {
      "name": "python"
    }
  },
  "cells": [
    {
      "cell_type": "markdown",
      "metadata": {
        "id": "view-in-github",
        "colab_type": "text"
      },
      "source": [
        "<a href=\"https://colab.research.google.com/github/gnbhub/gnb_2022_1_Python_study/blob/master/Week2/hyewonjang.ipynb\" target=\"_parent\"><img src=\"https://colab.research.google.com/assets/colab-badge.svg\" alt=\"Open In Colab\"/></a>"
      ]
    },
    {
      "cell_type": "code",
      "execution_count": 3,
      "metadata": {
        "colab": {
          "base_uri": "https://localhost:8080/"
        },
        "id": "aVE_1_u9-t1S",
        "outputId": "6321c564-cd1f-4616-f7da-214acd9b4d11"
      },
      "outputs": [
        {
          "output_type": "stream",
          "name": "stdout",
          "text": [
            "0b11000000\n"
          ]
        }
      ],
      "source": [
        "flag = 0b11001100; mask = 0b11110000\n",
        "flag &= mask\n",
        "print(bin(flag))"
      ]
    },
    {
      "cell_type": "code",
      "source": [
        "color = 0b1001001110110010\n",
        "red_mask = 0b1111100000000000\n",
        "green_masks = 0b0000011111100000\n",
        "blue_masks = 0b0000000000011111\n",
        "\n",
        "red = (color & red_mask) >> 11\n",
        "green = (color & green_masks) >>5\n",
        "blue = color & blue_masks\n",
        "\n",
        "print(\" red = %s\" %bin(red))\n",
        "print(\"green = %s\" %bin(green))\n",
        "print(\" blue = %s\" %bin(blue))\n"
      ],
      "metadata": {
        "colab": {
          "base_uri": "https://localhost:8080/"
        },
        "id": "CBObP-6sTCPH",
        "outputId": "4611487d-83b4-4369-c79b-8944e7ebe5bb"
      },
      "execution_count": 4,
      "outputs": [
        {
          "output_type": "stream",
          "name": "stdout",
          "text": [
            " red = 0b10010\n",
            "green = 0b11101\n",
            " blue = 0b10010\n"
          ]
        }
      ]
    },
    {
      "cell_type": "code",
      "source": [
        "expression = input(\"일반 수식을 그대로 입력 : \")\n",
        "answer = eval(expression)\n",
        "print(\"결과 : %.2f\" %answer)"
      ],
      "metadata": {
        "colab": {
          "base_uri": "https://localhost:8080/"
        },
        "id": "NVS4pasfW3dK",
        "outputId": "56b6ca8b-9873-4412-c27d-4f2519f64a2c"
      },
      "execution_count": 5,
      "outputs": [
        {
          "output_type": "stream",
          "name": "stdout",
          "text": [
            "일반 수식을 그대로 입력 : 2+3/5\n",
            "결과 : 2.60\n"
          ]
        }
      ]
    },
    {
      "cell_type": "code",
      "source": [
        ""
      ],
      "metadata": {
        "id": "Rbh8UpR5Xryi"
      },
      "execution_count": null,
      "outputs": []
    }
  ]
}