{
  "nbformat": 4,
  "nbformat_minor": 0,
  "metadata": {
    "colab": {
      "name": "Untitled0.ipynb",
      "provenance": [],
      "authorship_tag": "ABX9TyNOd+xKydpkuFMV7t26tGzY",
      "include_colab_link": true
    },
    "kernelspec": {
      "name": "python3",
      "display_name": "Python 3"
    },
    "language_info": {
      "name": "python"
    }
  },
  "cells": [
    {
      "cell_type": "markdown",
      "metadata": {
        "id": "view-in-github",
        "colab_type": "text"
      },
      "source": [
        "<a href=\"https://colab.research.google.com/github/gnbhub/gnb_2022_1_Python_study/blob/master/Week2/jiwoo.ipynb\" target=\"_parent\"><img src=\"https://colab.research.google.com/assets/colab-badge.svg\" alt=\"Open In Colab\"/></a>"
      ]
    },
    {
      "cell_type": "code",
      "execution_count": 2,
      "metadata": {
        "colab": {
          "base_uri": "https://localhost:8080/"
        },
        "id": "yclEbeRVXJAx",
        "outputId": "3e76a69c-3484-4693-8d86-2e02d10085ea"
      },
      "outputs": [
        {
          "output_type": "stream",
          "name": "stdout",
          "text": [
            "전체 초 단위의 시간을 입력 : 5234\n",
            "5234초는1시간 27분 14초 입니다\n"
          ]
        }
      ],
      "source": [
        "fullsec = int(input(\"전체 초 단위의 시간을 입력 : \"))\n",
        "\n",
        "hour = (fullsec // 60) // 60\n",
        "minute = (fullsec // 60) % 60\n",
        "seconds = fullsec % 60\n",
        "\n",
        "print(\"%d초는\" %fullsec, end=\"\")\n",
        "print(\"%d시간 %d분 %d초 입니다\" %(hour, minute, seconds))"
      ]
    },
    {
      "cell_type": "code",
      "source": [
        "color = 0b1001001110110010\n",
        "red_mask = 0b1111100000000000\n",
        "green_mask = 0b00000111111100000\n",
        "blue_mask = 0b0000000000011111\n",
        "\n",
        "red = (color & red_mask) >> 11\n",
        "green = (color & green_mask) >> 5\n",
        "blue = color & blue_mask\n",
        "\n",
        "print(\" red = %s\" %bin(red))\n",
        "print(\" green = %s\" %bin(green))\n",
        "print(\" blue = %s\" %bin(blue))\n"
      ],
      "metadata": {
        "colab": {
          "base_uri": "https://localhost:8080/"
        },
        "id": "Kw3x8aKWVrRI",
        "outputId": "69f27ba1-85e6-4ecd-f7d2-86e0eca33274"
      },
      "execution_count": 4,
      "outputs": [
        {
          "output_type": "stream",
          "name": "stdout",
          "text": [
            " red = 0b10010\n",
            " green = 0b11101\n",
            " blue = 0b10010\n"
          ]
        }
      ]
    },
    {
      "cell_type": "markdown",
      "source": [
        ""
      ],
      "metadata": {
        "id": "u7lzdY4kWwuh"
      }
    },
    {
      "cell_type": "code",
      "source": [
        "expression = input(\"일반 수식을 그대로 입력 : \")\n",
        "answer = eval(expression)\n",
        "print(\"결과 : %.2f\" %answer)"
      ],
      "metadata": {
        "id": "RPZ_gcCGcIgK",
        "colab": {
          "base_uri": "https://localhost:8080/"
        },
        "outputId": "edb459db-e880-437d-d696-9a2f1ed7f1b5"
      },
      "execution_count": 5,
      "outputs": [
        {
          "output_type": "stream",
          "name": "stdout",
          "text": [
            "일반 수식을 그대로 입력 : (2+3) * (13/3)\n",
            "결과 : 21.67\n"
          ]
        }
      ]
    },
    {
      "cell_type": "code",
      "source": [
        "flag = 0b11001100; mask = 0b11110000\n",
        "flag &= mask\n",
        "print(bin(flag))"
      ],
      "metadata": {
        "colab": {
          "base_uri": "https://localhost:8080/"
        },
        "id": "UmBf7apQYltF",
        "outputId": "071e1e9f-7b64-4bdc-cb1b-d0cbcd20a529"
      },
      "execution_count": 7,
      "outputs": [
        {
          "output_type": "stream",
          "name": "stdout",
          "text": [
            "0b11000000\n"
          ]
        }
      ]
    }
  ]
}